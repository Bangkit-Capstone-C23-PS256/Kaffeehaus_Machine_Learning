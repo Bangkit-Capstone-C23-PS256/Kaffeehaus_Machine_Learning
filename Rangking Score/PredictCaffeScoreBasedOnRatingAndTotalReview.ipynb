{
 "cells": [
  {
   "cell_type": "code",
   "execution_count": 2,
   "id": "4d36a331",
   "metadata": {},
   "outputs": [],
   "source": [
    "%load_ext tensorboard"
   ]
  },
  {
   "cell_type": "code",
   "execution_count": 3,
   "id": "585a5507",
   "metadata": {},
   "outputs": [],
   "source": [
    "import pandas as pd\n",
    "import tensorflow as tf\n",
    "from sklearn.model_selection import train_test_split\n",
    "from sklearn.preprocessing import MinMaxScaler\n",
    "from sklearn.metrics import mean_squared_error, mean_absolute_error\n",
    "import numpy as np\n",
    "import matplotlib.pyplot as plt\n",
    "import datetime"
   ]
  },
  {
   "cell_type": "code",
   "execution_count": 4,
   "id": "fcc574b7",
   "metadata": {},
   "outputs": [],
   "source": [
    "# Load the dataset\n",
    "data = pd.read_csv('Place Detail - V3 - With Detail (Scored).csv')\n",
    "\n",
    "# Split the dataset into features (X) and labels (y)\n",
    "X = data[['rating', 'total_reviews']]\n",
    "y = data['score']\n",
    "\n",
    "# Normalize the features\n",
    "scaler = MinMaxScaler()\n",
    "X_normalized = scaler.fit_transform(X)\n",
    "\n",
    "# Split the normalized dataset into training, testing, and validation sets\n",
    "X_train, X_test, y_train, y_test = train_test_split(X_normalized, y, test_size=0.1, random_state=42)\n",
    "X_train, X_val, y_train, y_val = train_test_split(X_train, y_train, test_size=0.1, random_state=42)\n"
   ]
  },
  {
   "cell_type": "code",
   "execution_count": 5,
   "id": "6feec0fe",
   "metadata": {},
   "outputs": [
    {
     "name": "stdout",
     "output_type": "stream",
     "text": [
      "3846\n",
      "475\n",
      "3846\n",
      "428\n",
      "4749\n"
     ]
    }
   ],
   "source": [
    "print(len(y_train))\n",
    "print(len(y_test))\n",
    "print(len(y_train))\n",
    "print(len(y_val))\n",
    "print(len(data))"
   ]
  },
  {
   "cell_type": "code",
   "execution_count": 6,
   "id": "dce2067e",
   "metadata": {},
   "outputs": [],
   "source": [
    "# Define the model architecture\n",
    "model = tf.keras.Sequential([\n",
    "    tf.keras.layers.Dense(512, activation='relu', input_shape=(2,)),\n",
    "    tf.keras.layers.Dense(256, activation='relu'),\n",
    "    tf.keras.layers.Dense(1)\n",
    "])\n",
    "\n",
    "# Compile the model\n",
    "model.compile(optimizer='adam', loss='mean_squared_error')\n",
    "#tf.keras.optimizers.RMSprop(learning_rate = 0.001)"
   ]
  },
  {
   "cell_type": "code",
   "execution_count": 7,
   "id": "69e6b13a",
   "metadata": {},
   "outputs": [
    {
     "name": "stdout",
     "output_type": "stream",
     "text": [
      "Epoch 1/50\n",
      "121/121 [==============================] - 3s 14ms/step - loss: 0.0109 - val_loss: 1.9809e-05\n",
      "Epoch 2/50\n",
      "121/121 [==============================] - 1s 11ms/step - loss: 2.5148e-06 - val_loss: 1.6238e-05\n",
      "Epoch 3/50\n",
      "121/121 [==============================] - 1s 11ms/step - loss: 1.0529e-06 - val_loss: 1.3729e-05\n",
      "Epoch 4/50\n",
      "121/121 [==============================] - 2s 13ms/step - loss: 5.2292e-07 - val_loss: 1.1757e-05\n",
      "Epoch 5/50\n",
      "121/121 [==============================] - 2s 13ms/step - loss: 2.0312e-07 - val_loss: 9.3554e-06\n",
      "Epoch 6/50\n",
      "121/121 [==============================] - 2s 16ms/step - loss: 9.3403e-08 - val_loss: 9.8204e-06\n",
      "Epoch 7/50\n",
      "121/121 [==============================] - 1s 11ms/step - loss: 1.0953e-07 - val_loss: 8.8373e-06\n",
      "Epoch 8/50\n",
      "121/121 [==============================] - 1s 10ms/step - loss: 7.7620e-08 - val_loss: 8.5126e-06\n",
      "Epoch 9/50\n",
      "121/121 [==============================] - 1s 11ms/step - loss: 9.7565e-08 - val_loss: 8.7736e-06\n",
      "Epoch 10/50\n",
      "121/121 [==============================] - 1s 10ms/step - loss: 3.5565e-08 - val_loss: 7.8065e-06\n",
      "Epoch 11/50\n",
      "121/121 [==============================] - 1s 11ms/step - loss: 3.7015e-07 - val_loss: 7.9570e-06\n",
      "Epoch 12/50\n",
      "121/121 [==============================] - 2s 14ms/step - loss: 2.7975e-08 - val_loss: 7.7405e-06\n",
      "Epoch 13/50\n",
      "121/121 [==============================] - 2s 15ms/step - loss: 1.2222e-07 - val_loss: 7.8330e-06\n",
      "Epoch 14/50\n",
      "121/121 [==============================] - 2s 14ms/step - loss: 4.5545e-08 - val_loss: 7.6486e-06\n",
      "Epoch 15/50\n",
      "121/121 [==============================] - 2s 13ms/step - loss: 9.6903e-08 - val_loss: 7.1061e-06\n",
      "Epoch 16/50\n",
      "121/121 [==============================] - 1s 10ms/step - loss: 1.0420e-07 - val_loss: 7.4172e-06\n",
      "Epoch 17/50\n",
      "121/121 [==============================] - 1s 11ms/step - loss: 1.5322e-07 - val_loss: 7.4844e-06\n",
      "Epoch 18/50\n",
      "121/121 [==============================] - 1s 10ms/step - loss: 2.6990e-07 - val_loss: 7.3583e-06\n",
      "Epoch 19/50\n",
      "121/121 [==============================] - 2s 13ms/step - loss: 2.5946e-08 - val_loss: 7.2598e-06\n",
      "Epoch 20/50\n",
      "121/121 [==============================] - 1s 12ms/step - loss: 1.2192e-07 - val_loss: 8.9740e-06\n",
      "Epoch 21/50\n",
      "121/121 [==============================] - 1s 10ms/step - loss: 5.5361e-08 - val_loss: 7.6443e-06\n",
      "Epoch 22/50\n",
      "121/121 [==============================] - 1s 10ms/step - loss: 1.1751e-07 - val_loss: 6.9020e-06\n",
      "Epoch 23/50\n",
      "121/121 [==============================] - 1s 10ms/step - loss: 2.1119e-07 - val_loss: 6.6508e-06\n",
      "Epoch 24/50\n",
      "121/121 [==============================] - 1s 10ms/step - loss: 8.6112e-08 - val_loss: 8.2545e-06\n",
      "Epoch 25/50\n",
      "121/121 [==============================] - 1s 10ms/step - loss: 1.7792e-07 - val_loss: 7.1928e-06\n",
      "Epoch 26/50\n",
      "121/121 [==============================] - 1s 12ms/step - loss: 1.2106e-07 - val_loss: 6.8786e-06\n",
      "Epoch 27/50\n",
      "121/121 [==============================] - 1s 11ms/step - loss: 2.2186e-07 - val_loss: 8.5167e-06\n",
      "Epoch 28/50\n",
      "121/121 [==============================] - 1s 10ms/step - loss: 3.2023e-07 - val_loss: 7.3609e-06\n",
      "Epoch 29/50\n",
      "121/121 [==============================] - 1s 10ms/step - loss: 2.6123e-08 - val_loss: 7.1063e-06\n",
      "Epoch 30/50\n",
      "121/121 [==============================] - 1s 10ms/step - loss: 4.4142e-07 - val_loss: 7.2436e-06\n",
      "Epoch 31/50\n",
      "121/121 [==============================] - 1s 11ms/step - loss: 5.1426e-08 - val_loss: 6.7966e-06\n",
      "Epoch 32/50\n",
      "121/121 [==============================] - 1s 10ms/step - loss: 3.1937e-07 - val_loss: 7.4939e-06\n",
      "Epoch 33/50\n",
      "121/121 [==============================] - 1s 10ms/step - loss: 3.1030e-07 - val_loss: 7.0648e-06\n",
      "Epoch 34/50\n",
      "121/121 [==============================] - 1s 10ms/step - loss: 4.3456e-07 - val_loss: 1.2671e-05\n",
      "Epoch 35/50\n",
      "121/121 [==============================] - 2s 14ms/step - loss: 5.5373e-07 - val_loss: 6.8159e-06\n",
      "Epoch 36/50\n",
      "121/121 [==============================] - 1s 11ms/step - loss: 1.2008e-06 - val_loss: 5.3110e-06\n",
      "Epoch 37/50\n",
      "121/121 [==============================] - 1s 10ms/step - loss: 5.0417e-07 - val_loss: 6.2827e-06\n",
      "Epoch 38/50\n",
      "121/121 [==============================] - 1s 10ms/step - loss: 6.2666e-07 - val_loss: 6.5121e-06\n",
      "Epoch 39/50\n",
      "121/121 [==============================] - 1s 11ms/step - loss: 7.4110e-07 - val_loss: 6.6419e-06\n",
      "Epoch 40/50\n",
      "121/121 [==============================] - 1s 11ms/step - loss: 2.7326e-06 - val_loss: 7.6628e-06\n",
      "Epoch 41/50\n",
      "121/121 [==============================] - 1s 10ms/step - loss: 5.0844e-07 - val_loss: 8.8461e-06\n",
      "Epoch 42/50\n",
      "121/121 [==============================] - 1s 11ms/step - loss: 2.7630e-06 - val_loss: 7.5946e-06\n",
      "Epoch 43/50\n",
      "121/121 [==============================] - 1s 11ms/step - loss: 1.4975e-05 - val_loss: 6.8959e-06\n",
      "Epoch 44/50\n",
      "121/121 [==============================] - 1s 10ms/step - loss: 2.8893e-07 - val_loss: 5.8979e-06\n",
      "Epoch 45/50\n",
      "121/121 [==============================] - 1s 10ms/step - loss: 5.0435e-08 - val_loss: 5.7351e-06\n",
      "Epoch 46/50\n",
      "121/121 [==============================] - 1s 10ms/step - loss: 1.8606e-07 - val_loss: 4.7982e-06\n",
      "Epoch 47/50\n",
      "121/121 [==============================] - 1s 11ms/step - loss: 4.8808e-06 - val_loss: 4.1106e-06\n",
      "Epoch 48/50\n",
      "121/121 [==============================] - 1s 11ms/step - loss: 3.0804e-06 - val_loss: 3.3465e-06\n",
      "Epoch 49/50\n",
      "121/121 [==============================] - 1s 10ms/step - loss: 8.5049e-06 - val_loss: 8.3886e-05\n",
      "Epoch 50/50\n",
      "121/121 [==============================] - 1s 11ms/step - loss: 3.6454e-06 - val_loss: 5.5630e-06\n"
     ]
    }
   ],
   "source": [
    "# Train the model\n",
    "#history = model.fit(train_dataset, epochs=100, validation_data = val_dataset)\n",
    "\n",
    "log_dir=\"logs/fit/\" + datetime.datetime.now().strftime(\"%Y%m%d-%H%M%S\")\n",
    "tensorboard_callback = tf.keras.callbacks.TensorBoard(log_dir=log_dir, histogram_freq=1)\n",
    "\n",
    "history = model.fit(X_train, y_train, epochs=50, batch_size=32, validation_data=(X_val, y_val), callbacks=[tensorboard_callback])"
   ]
  },
  {
   "cell_type": "code",
   "execution_count": 8,
   "id": "561e6670",
   "metadata": {},
   "outputs": [
    {
     "name": "stdout",
     "output_type": "stream",
     "text": [
      "15/15 [==============================] - 0s 4ms/step\n",
      "Mean Squared Error: 1.1567048605265738e-07\n",
      "Mean Absolute Error: 0.00029461447185931286\n",
      "15/15 [==============================] - 0s 4ms/step - loss: 1.1567e-07\n",
      "Test loss: 1.1567170332682508e-07\n"
     ]
    }
   ],
   "source": [
    "y_pred = model.predict(X_test)\n",
    "\n",
    "# Calculate evaluation metrics (mean squared error and mean absolute error)\n",
    "mse = mean_squared_error(y_test, y_pred)\n",
    "mae = mean_absolute_error(y_test, y_pred)\n",
    "print('Mean Squared Error:', mse)\n",
    "print('Mean Absolute Error:', mae)\n",
    "\n",
    "# Evaluate the model's loss on the test set\n",
    "loss = model.evaluate(X_test, y_test)\n",
    "print('Test loss:', loss)\n"
   ]
  },
  {
   "cell_type": "code",
   "execution_count": 9,
   "id": "b81c3f10",
   "metadata": {},
   "outputs": [
    {
     "name": "stdout",
     "output_type": "stream",
     "text": [
      "1/1 [==============================] - 0s 123ms/step\n",
      "1/1 [==============================] - 0s 43ms/step\n",
      "1/1 [==============================] - 0s 40ms/step\n",
      "this is the prediction before normalized:  [[7566.1187]]\n",
      "1/1 [==============================] - 0s 35ms/step\n",
      "this is the prediction after normalized:  [[0.98484874]]\n"
     ]
    }
   ],
   "source": [
    "new_data = pd.DataFrame({'rating': [5],'total_reviews': [15000]})\n",
    "\n",
    "predictions = model.predict(new_data)\n",
    "\n",
    "# Make predictions on the normalized new data\n",
    "new_data_normalized = scaler.transform(new_data)\n",
    "predictions = model.predict(new_data_normalized)\n",
    "\n",
    "print('this is the prediction before normalized: ', model.predict(new_data))\n",
    "print('this is the prediction after normalized: ', model.predict(new_data_normalized))"
   ]
  },
  {
   "cell_type": "code",
   "execution_count": 10,
   "id": "3cb13bfc",
   "metadata": {},
   "outputs": [],
   "source": [
    "model.save('Scoring_Model.h5')"
   ]
  },
  {
   "cell_type": "code",
   "execution_count": 50,
   "id": "3d8c8b01",
   "metadata": {},
   "outputs": [
    {
     "data": {
      "image/png": "[encoded data removed]",
      "text/plain": [
       "<Figure size 640x480 with 1 Axes>"
      ]
     },
     "metadata": {},
     "output_type": "display_data"
    }
   ],
   "source": [
    "# Plot the training loss and validation loss\n",
    "plt.plot(history.history['loss'], label='Training Loss', color='blue')\n",
    "plt.plot(history.history['val_loss'], label='Validation Loss', color='orange')\n",
    "plt.title('Model Loss')\n",
    "plt.ylabel('Loss')\n",
    "plt.xlabel('Epoch')\n",
    "plt.legend()\n",
    "#plt.xlim(150, 200)\n",
    "plt.show()"
   ]
  },
  {
   "cell_type": "code",
   "execution_count": 42,
   "id": "03fc7e28",
   "metadata": {},
   "outputs": [
    {
     "data": {
      "image/png": "[encoded data removed]",
      "text/plain": [
       "<Figure size 640x480 with 1 Axes>"
      ]
     },
     "metadata": {},
     "output_type": "display_data"
    }
   ],
   "source": [
    "# Plot the training loss\n",
    "plt.plot(history.history['loss'])\n",
    "plt.title('Model Loss')\n",
    "plt.ylabel('loss')\n",
    "plt.xlabel('Epoch')\n",
    "# plt.xlim()\n",
    "plt.show()"
   ]
  },
  {
   "cell_type": "code",
   "execution_count": 1,
   "id": "95603546",
   "metadata": {},
   "outputs": [
    {
     "name": "stderr",
     "output_type": "stream",
     "text": [
      "UsageError: Line magic function `%tensorboard` not found.\n"
     ]
    }
   ],
   "source": [
    "%tensorboard --logdir logs/fit"
   ]
  },
  {
   "cell_type": "code",
   "execution_count": null,
   "id": "b21f17d8",
   "metadata": {},
   "outputs": [],
   "source": []
  },
  {
   "cell_type": "code",
   "execution_count": 44,
   "id": "01bb1b04",
   "metadata": {},
   "outputs": [
    {
     "name": "stderr",
     "output_type": "stream",
     "text": [
      "WARNING:absl:Found untraced functions such as _update_step_xla while saving (showing 1 of 1). These functions will not be directly callable after loading.\n"
     ]
    },
    {
     "name": "stdout",
     "output_type": "stream",
     "text": [
      "INFO:tensorflow:Assets written to: /saved_model/1\\assets\n"
     ]
    },
    {
     "name": "stderr",
     "output_type": "stream",
     "text": [
      "INFO:tensorflow:Assets written to: /saved_model/1\\assets\n"
     ]
    }
   ],
   "source": [
    "# EXERCISE: Use the tf.saved_model API to save your model in the SavedModel format. \n",
    "export_dir = '/saved_model/1'\n",
    "\n",
    "# YOUR CODE HERE\n",
    "tf.saved_model.save(model, export_dir = export_dir)"
   ]
  },
  {
   "cell_type": "code",
   "execution_count": 45,
   "id": "d7bae90f",
   "metadata": {},
   "outputs": [],
   "source": [
    "# Select mode of optimization\n",
    "mode = \"Speed\" \n",
    "\n",
    "if mode == 'Storage':\n",
    "    optimization = tf.lite.Optimize.OPTIMIZE_FOR_SIZE\n",
    "elif mode == 'Speed':\n",
    "    optimization = tf.lite.Optimize.OPTIMIZE_FOR_LATENCY\n",
    "else:\n",
    "    optimization = tf.lite.Optimize.DEFAULT"
   ]
  },
  {
   "cell_type": "code",
   "execution_count": 46,
   "id": "ea5f4ec4",
   "metadata": {},
   "outputs": [
    {
     "name": "stderr",
     "output_type": "stream",
     "text": [
      "WARNING:absl:Optimization option OPTIMIZE_FOR_LATENCY is deprecated, please use optimizations=[Optimize.DEFAULT] instead.\n",
      "WARNING:absl:Optimization option OPTIMIZE_FOR_LATENCY is deprecated, please use optimizations=[Optimize.DEFAULT] instead.\n",
      "WARNING:absl:Optimization option OPTIMIZE_FOR_LATENCY is deprecated, please use optimizations=[Optimize.DEFAULT] instead.\n"
     ]
    }
   ],
   "source": [
    "converter = tf.lite.TFLiteConverter.from_saved_model(export_dir)\n",
    "\n",
    "# Set the optimzations\n",
    "converter.optimizations = [optimization]\n",
    "\n",
    "# Invoke the converter to finally generate the TFLite model\n",
    "tflite_model = converter.convert()"
   ]
  },
  {
   "cell_type": "code",
   "execution_count": 47,
   "id": "bc18aa73",
   "metadata": {},
   "outputs": [
    {
     "data": {
      "text/plain": [
       "138224"
      ]
     },
     "execution_count": 47,
     "metadata": {},
     "output_type": "execute_result"
    }
   ],
   "source": [
    "import pathlib\n",
    "\n",
    "tflite_model_file = pathlib.Path('./model.tflite')\n",
    "tflite_model_file.write_bytes(tflite_model)"
   ]
  },
  {
   "cell_type": "code",
   "execution_count": null,
   "id": "0732d769",
   "metadata": {},
   "outputs": [],
   "source": []
  }
 ],
 "metadata": {
  "kernelspec": {
   "display_name": "Python 3 (ipykernel)",
   "language": "python",
   "name": "python3"
  },
  "language_info": {
   "codemirror_mode": {
    "name": "ipython",
    "version": 3
   },
   "file_extension": ".py",
   "mimetype": "text/x-python",
   "name": "python",
   "nbconvert_exporter": "python",
   "pygments_lexer": "ipython3",
   "version": "3.9.13"
  }
 },
 "nbformat": 4,
 "nbformat_minor": 5
}
