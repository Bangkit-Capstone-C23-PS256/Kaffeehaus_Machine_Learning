{
 "cells": [
  {
   "cell_type": "markdown",
   "id": "7ae03434",
   "metadata": {},
   "source": [
    "# Code Documentation\n",
    "\n",
    "## Importing the pandas Module\n",
    "The code imports the `pandas` module, which provides data structures and functions for efficiently handling and processing structured data, such as CSV files, Excel sheets, and databases. The `pd` alias is commonly used to refer to the `pandas` module.\n",
    "\n",
    "### Pandas (pd)\n",
    "The `pandas` module is a popular data manipulation library in Python. It provides powerful data structures, such as `Series` and `DataFrame`, for handling and analyzing structured data."
   ]
  },
  {
   "cell_type": "code",
   "execution_count": 1,
   "id": "d2e3ed84",
   "metadata": {},
   "outputs": [],
   "source": [
    "import pandas as pd"
   ]
  },
  {
   "cell_type": "markdown",
   "id": "cd0c0f01",
   "metadata": {},
   "source": [
    "## Importing the pandas Module and Reading CSV Data\n",
    "The code imports the `pandas` module and uses it to read a CSV file named `'Place Detail - placedata.csv'` into a `DataFrame` object called `detail`. \n",
    "\n",
    "### pd.read_csv()\n",
    "The `pd.read_csv()` function is a convenient method provided by `pandas` to read data from a CSV (Comma-Separated Values) file and create a `DataFrame` object. It takes the path to the CSV file as an argument and returns a `DataFrame` containing the data from the file."
   ]
  },
  {
   "cell_type": "code",
   "execution_count": 6,
   "id": "bec8936c",
   "metadata": {},
   "outputs": [],
   "source": [
    "detail = pd.read_csv('Place Detail - placedata.csv')"
   ]
  },
  {
   "cell_type": "markdown",
   "id": "72c1cc8d",
   "metadata": {},
   "source": [
    "## Normalizing Rating and Total Reviews\n",
    "The code adds two new columns to the `detail` DataFrame: `rating_normalized` and `reviews_normalized`. These columns contain the normalized values of the 'rating' and 'total_reviews' columns, respectively.\n",
    "\n",
    "### Normalization\n",
    "Normalization is a common technique used to scale numerical data to a common range. It helps in comparing and analyzing data that have different scales. In this code, the min-max normalization technique is used, which scales the values between 0 and 1.\n",
    "\n",
    "### Calculating Normalized Values\n",
    "The code calculates the normalized values for the 'rating' column and stores them in the 'rating_normalized' column."
   ]
  },
  {
   "cell_type": "code",
   "execution_count": 7,
   "id": "c87deb8b",
   "metadata": {},
   "outputs": [],
   "source": [
    "detail['rating_normalized'] = (detail['rating'] - detail['rating'].min()) / (detail['rating'].max() - detail['rating'].min())\n",
    "detail['reviews_normalized'] = (detail['total_reviews'] - detail['total_reviews'].min()) / (detail['total_reviews'].max() - detail['total_reviews'].min())"
   ]
  },
  {
   "cell_type": "markdown",
   "id": "6574bb90",
   "metadata": {},
   "source": [
    "## Calculating Weighted Score\n",
    "\n",
    "The code calculates a weighted score for each entry in the 'detail' DataFrame by combining the normalized 'rating' and 'total_reviews' columns.\n",
    "\n",
    "### Weighted Score Calculation\n",
    "\n",
    "The weighted score is computed using the following formula:\n",
    "\n",
    "`weight_rating * detail['rating_normalized'] + weight_reviews * detail['reviews_normalized']`\n",
    "\n",
    "- `weight_rating`: The weight assigned to the normalized 'rating' column (currently set to 0.57).\n",
    "- `weight_reviews`: The weight assigned to the normalized 'total_reviews' column (currently set to 0.43).\n",
    "\n",
    "The normalized 'rating' and 'total_reviews' columns have been calculated by scaling the original values to a range of [0, 1].\n",
    "\n",
    "### Interpretation\n",
    "\n",
    "The weighted score provides a combined measure that considers both the rating and the total number of reviews. It allows for a more balanced assessment by incorporating the weights assigned to each factor. In this case, the rating has a higher weight (0.57) compared to the total reviews (0.43).\n",
    "\n",
    "Adjusting the weights can be done based on specific requirements or preferences, allowing customization of the scoring mechanism.\n",
    "\n"
   ]
  },
  {
   "cell_type": "code",
   "execution_count": 8,
   "id": "1431a3c6",
   "metadata": {},
   "outputs": [],
   "source": [
    "weight_rating = 0.57\n",
    "weight_reviews = 0.43\n",
    "detail['score'] = (weight_rating * detail['rating_normalized']) + (weight_reviews * detail['reviews_normalized'])\n"
   ]
  },
  {
   "cell_type": "markdown",
   "id": "2d16289c",
   "metadata": {},
   "source": [
    "## Sorting and Ranking DataFrame\n",
    "\n",
    "The code sorts the 'detail' DataFrame based on the 'score' column in descending order and assigns a rank to each entry.\n",
    "\n",
    "### Sorting by Score\n",
    "\n",
    "The DataFrame is sorted in descending order of the 'score' column using the `sort_values` function. The 'score' column serves as the primary sorting key.\n",
    "\n",
    "### Assigning Ranks\n",
    "After sorting the DataFrame, ranks are assigned to each entry using the `range` function. The ranks are generated in ascending order, starting from 1 and ending at the total number of entries in the DataFrame.\n",
    "\n",
    "Outputting the Sorted DataFrame\n",
    "The sorted and ranked DataFrame is saved to a CSV file named 'Place Detail (Scored).csv' using the `to_csv` function."
   ]
  },
  {
   "cell_type": "code",
   "execution_count": 9,
   "id": "48d51f7c",
   "metadata": {},
   "outputs": [],
   "source": [
    "detail = detail.sort_values('score', ascending=False)\n",
    "detail['rank'] = range(1, len(detail) + 1)\n",
    "\n",
    "output_filename = 'Place Detail (Scored).csv'\n",
    "detail.to_csv(output_filename, index=False)"
   ]
  },
  {
   "cell_type": "code",
   "execution_count": null,
   "id": "dc1a7286",
   "metadata": {},
   "outputs": [],
   "source": []
  },
  {
   "cell_type": "code",
   "execution_count": null,
   "id": "c5f5519f",
   "metadata": {},
   "outputs": [],
   "source": []
  }
 ],
 "metadata": {
  "kernelspec": {
   "display_name": "Python 3 (ipykernel)",
   "language": "python",
   "name": "python3"
  },
  "language_info": {
   "codemirror_mode": {
    "name": "ipython",
    "version": 3
   },
   "file_extension": ".py",
   "mimetype": "text/x-python",
   "name": "python",
   "nbconvert_exporter": "python",
   "pygments_lexer": "ipython3",
   "version": "3.9.13"
  }
 },
 "nbformat": 4,
 "nbformat_minor": 5
}
