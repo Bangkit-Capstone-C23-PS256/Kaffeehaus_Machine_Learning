{
 "cells": [
  {
   "cell_type": "code",
   "execution_count": 1,
   "id": "d2e3ed84",
   "metadata": {},
   "outputs": [],
   "source": [
    "import pandas as pd"
   ]
  },
  {
   "cell_type": "code",
   "execution_count": 6,
   "id": "bec8936c",
   "metadata": {},
   "outputs": [],
   "source": [
    "detail = pd.read_csv('Place Detail - placedata.csv')"
   ]
  },
  {
   "cell_type": "code",
   "execution_count": 7,
   "id": "c87deb8b",
   "metadata": {},
   "outputs": [],
   "source": [
    "detail['rating_normalized'] = (detail['rating'] - detail['rating'].min()) / (detail['rating'].max() - detail['rating'].min())\n",
    "detail['reviews_normalized'] = (detail['total_reviews'] - detail['total_reviews'].min()) / (detail['total_reviews'].max() - detail['total_reviews'].min())"
   ]
  },
  {
   "cell_type": "code",
   "execution_count": 8,
   "id": "1431a3c6",
   "metadata": {},
   "outputs": [],
   "source": [
    "weight_rating = 0.57\n",
    "weight_reviews = 0.43\n",
    "detail['score'] = (weight_rating * detail['rating_normalized']) + (weight_reviews * detail['reviews_normalized'])\n"
   ]
  },
  {
   "cell_type": "code",
   "execution_count": 9,
   "id": "48d51f7c",
   "metadata": {},
   "outputs": [],
   "source": [
    "detail = detail.sort_values('score', ascending=False)\n",
    "detail['rank'] = range(1, len(detail) + 1)\n",
    "\n",
    "output_filename = 'Place Detail (Scored).csv'\n",
    "detail.to_csv(output_filename, index=False)"
   ]
  },
  {
   "cell_type": "code",
   "execution_count": null,
   "id": "dc1a7286",
   "metadata": {},
   "outputs": [],
   "source": []
  },
  {
   "cell_type": "code",
   "execution_count": null,
   "id": "c5f5519f",
   "metadata": {},
   "outputs": [],
   "source": []
  }
 ],
 "metadata": {
  "kernelspec": {
   "display_name": "Python 3 (ipykernel)",
   "language": "python",
   "name": "python3"
  },
  "language_info": {
   "codemirror_mode": {
    "name": "ipython",
    "version": 3
   },
   "file_extension": ".py",
   "mimetype": "text/x-python",
   "name": "python",
   "nbconvert_exporter": "python",
   "pygments_lexer": "ipython3",
   "version": "3.9.13"
  }
 },
 "nbformat": 4,
 "nbformat_minor": 5
}
