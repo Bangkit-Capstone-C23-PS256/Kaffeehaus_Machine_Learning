{
 "cells": [
  {
   "cell_type": "code",
   "execution_count": 1,
   "id": "e3fa5231",
   "metadata": {},
   "outputs": [],
   "source": [
    "import tensorflow as tf"
   ]
  },
  {
   "cell_type": "code",
   "execution_count": 2,
   "id": "55f8998d",
   "metadata": {},
   "outputs": [],
   "source": [
    "# Load your trained TensorFlow model\n",
    "model = tf.keras.models.load_model('Scoring_Model.h5')  # Replace 'your_model.h5' with your model file\n",
    "\n",
    "# Convert the model to JSON\n",
    "model_json = model.to_json()\n",
    "\n",
    "# Save the JSON model to a file\n",
    "with open('Scoring_Model.json', 'w') as json_file:\n",
    "    json_file.write(model_json)"
   ]
  },
  {
   "cell_type": "code",
   "execution_count": null,
   "id": "69cc372f",
   "metadata": {},
   "outputs": [],
   "source": []
  }
 ],
 "metadata": {
  "kernelspec": {
   "display_name": "Python 3 (ipykernel)",
   "language": "python",
   "name": "python3"
  },
  "language_info": {
   "codemirror_mode": {
    "name": "ipython",
    "version": 3
   },
   "file_extension": ".py",
   "mimetype": "text/x-python",
   "name": "python",
   "nbconvert_exporter": "python",
   "pygments_lexer": "ipython3",
   "version": "3.9.13"
  }
 },
 "nbformat": 4,
 "nbformat_minor": 5
}
