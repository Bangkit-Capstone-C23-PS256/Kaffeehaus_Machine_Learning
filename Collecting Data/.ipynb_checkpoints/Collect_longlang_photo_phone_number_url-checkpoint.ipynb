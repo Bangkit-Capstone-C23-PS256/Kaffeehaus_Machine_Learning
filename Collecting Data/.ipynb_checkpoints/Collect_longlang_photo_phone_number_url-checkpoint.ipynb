{
 "cells": [
  {
   "cell_type": "code",
   "execution_count": 1,
   "metadata": {
    "colab": {
     "base_uri": "https://localhost:8080/"
    },
    "id": "HXKJ5k1Ao9TX",
    "outputId": "6a4117ca-96be-4454-8c09-7a407a9d8eb4"
   },
   "outputs": [
    {
     "name": "stdout",
     "output_type": "stream",
     "text": [
      "Looking in indexes: https://pypi.org/simple, https://us-python.pkg.dev/colab-wheels/public/simple/\n",
      "Collecting googlemaps\n",
      "  Downloading googlemaps-4.10.0.tar.gz (33 kB)\n",
      "  Preparing metadata (setup.py) ... \u001b[?25l\u001b[?25hdone\n",
      "Requirement already satisfied: requests<3.0,>=2.20.0 in /usr/local/lib/python3.10/dist-packages (from googlemaps) (2.27.1)\n",
      "Requirement already satisfied: urllib3<1.27,>=1.21.1 in /usr/local/lib/python3.10/dist-packages (from requests<3.0,>=2.20.0->googlemaps) (1.26.15)\n",
      "Requirement already satisfied: certifi>=2017.4.17 in /usr/local/lib/python3.10/dist-packages (from requests<3.0,>=2.20.0->googlemaps) (2022.12.7)\n",
      "Requirement already satisfied: charset-normalizer~=2.0.0 in /usr/local/lib/python3.10/dist-packages (from requests<3.0,>=2.20.0->googlemaps) (2.0.12)\n",
      "Requirement already satisfied: idna<4,>=2.5 in /usr/local/lib/python3.10/dist-packages (from requests<3.0,>=2.20.0->googlemaps) (3.4)\n",
      "Building wheels for collected packages: googlemaps\n",
      "  Building wheel for googlemaps (setup.py) ... \u001b[?25l\u001b[?25hdone\n",
      "  Created wheel for googlemaps: filename=googlemaps-4.10.0-py3-none-any.whl size=40718 sha256=bb9a35d30f235f1a2e822a537c979680d2338e91d0698263fcf281d59f5da953\n",
      "  Stored in directory: /root/.cache/pip/wheels/17/f8/79/999d5d37118fd35d7219ef57933eb9d09886c4c4503a800f84\n",
      "Successfully built googlemaps\n",
      "Installing collected packages: googlemaps\n",
      "Successfully installed googlemaps-4.10.0\n"
     ]
    }
   ],
   "source": [
    "!pip install googlemaps"
   ]
  },
  {
   "cell_type": "code",
   "execution_count": 2,
   "metadata": {
    "id": "LgEp2CIoo4u_"
   },
   "outputs": [],
   "source": [
    "import csv\n",
    "import googlemaps"
   ]
  },
  {
   "cell_type": "code",
   "execution_count": 3,
   "metadata": {
    "colab": {
     "base_uri": "https://localhost:8080/"
    },
    "id": "AcqWMQqSpQft",
    "outputId": "97c6ca93-3b2e-4f3b-eb0e-a012b553c371"
   },
   "outputs": [
    {
     "name": "stdout",
     "output_type": "stream",
     "text": [
      "Mounted at /content/drive\n"
     ]
    }
   ],
   "source": [
    "from google.colab import drive\n",
    "drive.mount('/content/drive')"
   ]
  },
  {
   "cell_type": "code",
   "execution_count": 4,
   "metadata": {
    "id": "YjovsiJgpFAa"
   },
   "outputs": [],
   "source": [
    "# Initialize the Google Maps client\n",
    "gmaps = googlemaps.Client(key='api key iki sam')"
   ]
  },
  {
   "cell_type": "code",
   "execution_count": 5,
   "metadata": {
    "colab": {
     "base_uri": "https://localhost:8080/"
    },
    "id": "ragUgSysozKp",
    "outputId": "750dd450-7c8f-4968-913b-c3e5d3dde5c4"
   },
   "outputs": [
    {
     "name": "stdout",
     "output_type": "stream",
     "text": [
      "Error occurred for Place ID: ChIJXR1tuJX51y0RdxTsI9GzGhw\n",
      "Error occurred for Place ID: ChIJ4eP2JWr51y0RxVqOF0q-qCo\n",
      "Error occurred for Place ID: ChIJT3kWDQ8p1i0RV1AZrpS6tHU\n",
      "Error occurred for Place ID: ChIJ3W2NAyiCeC4RcPYYzZ20Io4\n",
      "Error occurred for Place ID: ChIJB-vclZ791y0RIvaShMrBcBc\n",
      "Error occurred for Place ID: ChIJVXL5dXaCeC4R0HaRTsanYIE\n",
      "Error occurred for Place ID: ChIJpyJrwP0p1i0RJP8i0yhHX1c\n"
     ]
    }
   ],
   "source": [
    "with open('/content/drive/MyDrive/For Capstone/Collecting data/Place Detail (Scored + Keyword 1 & 2 Extracted  + Additional Feature).csv', 'r') as csv_file:\n",
    "    reader = csv.DictReader(csv_file)\n",
    "    fieldnames = reader.fieldnames + ['Longitude', 'Latitude', 'Contact', 'Place URL']\n",
    "\n",
    "    # Create a new CSV file to write the output\n",
    "    with open('/content/drive/MyDrive/For Capstone/Collecting data/Place Detail (Scored + Keyword 1 & 2 Extracted  + Additional Feature (longlang, contact etc)).csv', 'w', newline='') as output_file:\n",
    "        writer = csv.DictWriter(output_file, fieldnames=fieldnames)\n",
    "        writer.writeheader()\n",
    "\n",
    "        # Iterate over each row in the CSV file\n",
    "        for row in reader:\n",
    "            place_id = row['Place ID']\n",
    "            try:\n",
    "                # Retrieve place details using the place ID\n",
    "                place_details = gmaps.place(place_id=place_id, fields=['geometry', 'formatted_phone_number', 'url'])\n",
    "                place = place_details['result']\n",
    "\n",
    "                # Extract the desired data\n",
    "                longitude = place['geometry']['location']['lng']\n",
    "                latitude = place['geometry']['location']['lat']\n",
    "                contact = place['formatted_phone_number'] if 'formatted_phone_number' in place else ''\n",
    "                place_url = place['url'] if 'url' in place else ''\n",
    "\n",
    "                # Add the data to the current row\n",
    "                row['Longitude'] = longitude\n",
    "                row['Latitude'] = latitude\n",
    "                row['Contact'] = contact\n",
    "                row['Place URL'] = place_url\n",
    "\n",
    "            except googlemaps.exceptions.ApiError:\n",
    "                # Handle any API errors\n",
    "                print(f\"Error occurred for Place ID: {place_id}\")\n",
    "\n",
    "            # Write the updated row to the output file\n",
    "            writer.writerow(row)"
   ]
  }
 ],
 "metadata": {
  "colab": {
   "provenance": []
  },
  "kernelspec": {
   "display_name": "Python 3 (ipykernel)",
   "language": "python",
   "name": "python3"
  },
  "language_info": {
   "codemirror_mode": {
    "name": "ipython",
    "version": 3
   },
   "file_extension": ".py",
   "mimetype": "text/x-python",
   "name": "python",
   "nbconvert_exporter": "python",
   "pygments_lexer": "ipython3",
   "version": "3.9.13"
  }
 },
 "nbformat": 4,
 "nbformat_minor": 1
}
