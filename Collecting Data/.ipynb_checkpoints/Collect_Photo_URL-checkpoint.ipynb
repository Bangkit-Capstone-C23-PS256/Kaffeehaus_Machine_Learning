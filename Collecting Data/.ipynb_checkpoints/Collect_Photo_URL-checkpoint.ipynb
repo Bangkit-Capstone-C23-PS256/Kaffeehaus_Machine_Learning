{
 "cells": [
  {
   "cell_type": "markdown",
   "metadata": {},
   "source": [
    "# Code Documentation\n",
    "\n",
    "### Installing the `googlemaps` Package\n",
    "The code uses the `!pip install` command to install the `googlemaps` package. This package provides a Python client library for the Google Maps API, which enables geocoding, directions, distance matrix, and other Google Maps services.\n",
    "\n",
    "The `!` prefix before the `pip install` command is used in certain environments (e.g., Jupyter Notebook, Google Colab) to run shell commands within the code."
   ]
  },
  {
   "cell_type": "code",
   "execution_count": null,
   "metadata": {
    "colab": {
     "base_uri": "https://localhost:8080/"
    },
    "id": "PPVGoAYpd3Cv",
    "outputId": "660bb831-5356-4890-b60a-46dec4e20040"
   },
   "outputs": [
    {
     "name": "stdout",
     "output_type": "stream",
     "text": [
      "Looking in indexes: https://pypi.org/simple, https://us-python.pkg.dev/colab-wheels/public/simple/\n",
      "Requirement already satisfied: googlemaps in /usr/local/lib/python3.10/dist-packages (4.10.0)\n",
      "Requirement already satisfied: requests<3.0,>=2.20.0 in /usr/local/lib/python3.10/dist-packages (from googlemaps) (2.27.1)\n",
      "Requirement already satisfied: urllib3<1.27,>=1.21.1 in /usr/local/lib/python3.10/dist-packages (from requests<3.0,>=2.20.0->googlemaps) (1.26.15)\n",
      "Requirement already satisfied: certifi>=2017.4.17 in /usr/local/lib/python3.10/dist-packages (from requests<3.0,>=2.20.0->googlemaps) (2022.12.7)\n",
      "Requirement already satisfied: charset-normalizer~=2.0.0 in /usr/local/lib/python3.10/dist-packages (from requests<3.0,>=2.20.0->googlemaps) (2.0.12)\n",
      "Requirement already satisfied: idna<4,>=2.5 in /usr/local/lib/python3.10/dist-packages (from requests<3.0,>=2.20.0->googlemaps) (3.4)\n"
     ]
    }
   ],
   "source": [
    "!pip install googlemaps"
   ]
  },
  {
   "cell_type": "markdown",
   "metadata": {},
   "source": [
    "## Importing Modules\n",
    "The code includes two import statements:\n",
    "- `import csv`: This imports the CSV module, which provides functionality for reading from and writing to CSV files.\n",
    "- `import requests`: This imports the requests module, which allows making HTTP requests and handling responses."
   ]
  },
  {
   "cell_type": "code",
   "execution_count": null,
   "metadata": {
    "id": "xrWOhwIteJiE"
   },
   "outputs": [],
   "source": [
    "import csv\n",
    "import requests"
   ]
  },
  {
   "cell_type": "markdown",
   "metadata": {},
   "source": [
    "### Mounting Google Drive\n",
    "The code uses the `drive.mount()` function from the `google.colab` module to mount the Google Drive. The function takes a parameter, `/content/drive`, which specifies the directory path where the Google Drive will be mounted.\n",
    "\n",
    "When the code is executed, a prompt will appear asking for authorization to access the Google Drive. After granting permission, the Google Drive will be mounted and available for use."
   ]
  },
  {
   "cell_type": "code",
   "execution_count": null,
   "metadata": {
    "colab": {
     "base_uri": "https://localhost:8080/"
    },
    "id": "oCRJyCcKi9xx",
    "outputId": "38cb4ce5-5a61-46d8-8ab7-1cf14d06ed36"
   },
   "outputs": [
    {
     "name": "stdout",
     "output_type": "stream",
     "text": [
      "Mounted at /content/drive\n"
     ]
    }
   ],
   "source": [
    "from google.colab import drive\n",
    "drive.mount('/content/drive')"
   ]
  },
  {
   "cell_type": "markdown",
   "metadata": {},
   "source": [
    "### Function: get_photo_url(place_id, photo_reference, api_key)\n",
    "This function takes three parameters:\n",
    "- `place_id`: The ID of the place for which to retrieve the photo URL.\n",
    "- `photo_reference`: The reference ID of the photo.\n",
    "- `api_key`: The API key for accessing the Google Maps API.\n",
    "\n",
    "The function constructs the photo URL using the provided parameters and makes a request to the Google Place Photos API. If the request is successful (status code 200), the URL of the photo is returned. Otherwise, `None` is returned.\n",
    "\n",
    "### Function: process_csv(csv_file, api_key)\n",
    "This function takes two parameters:\n",
    "- `csv_file`: The path to the CSV file to process.\n",
    "- `api_key`: The API key for accessing the Google Maps API.\n",
    "\n",
    "The function reads the contents of the CSV file and stores the rows in a list. It then iterates over each row and performs the following steps:\n",
    "- Retrieves the place ID from the \"Place ID\" field in the row.\n",
    "- Makes a request to the Place Details API to get the place details using the place ID and API key.\n",
    "- Checks if the response data contains a \"result\" field and if \"photos\" exist in the result.\n",
    "- If a photo is available, retrieves the first photo reference and calls the `get_photo_url()` function to get the photo URL.\n",
    "- Adds the photo URL to a new column named \"Photo URL\" in the row.\n",
    "- If no photo is available, sets the \"Photo URL\" value to \"N/A\".\n",
    "- Appends the updated row to the `rows` list.\n",
    "\n",
    "Finally, the function opens the CSV file in write mode, writes the updated rows along with the header to the file using the `csv.DictWriter` object, and saves the changes to the CSV file."
   ]
  },
  {
   "cell_type": "code",
   "execution_count": null,
   "metadata": {
    "id": "fx-RndDudHF8"
   },
   "outputs": [],
   "source": [
    "def get_photo_url(place_id, photo_reference, api_key):\n",
    "    photo_url = f\"https://maps.googleapis.com/maps/api/place/photo?maxwidth=400&photoreference={photo_reference}&key={api_key}\"\n",
    "    response = requests.get(photo_url)\n",
    "    \n",
    "    if response.status_code == 200:\n",
    "        return response.url\n",
    "    \n",
    "    return None\n",
    "\n",
    "# Function to process the CSV file\n",
    "def process_csv(csv_file, api_key):\n",
    "    rows = []\n",
    "    \n",
    "    with open(csv_file, \"r\") as file:\n",
    "        reader = csv.DictReader(file)\n",
    "        header = reader.fieldnames\n",
    "        header.append(\"Photo URL\")  # Add a new column to the header\n",
    "        \n",
    "        for row in reader:\n",
    "            place_id = row[\"Place ID\"]\n",
    "\n",
    "            # Make a request to the Place Details API to get the place details\n",
    "            details_url = f\"https://maps.googleapis.com/maps/api/place/details/json?place_id={place_id}&key={api_key}\"\n",
    "            details_response = requests.get(details_url)\n",
    "            details_data = details_response.json()\n",
    "\n",
    "            # Check if the \"result\" field exists in the response data\n",
    "            if \"result\" in details_data and \"photos\" in details_data[\"result\"]:\n",
    "                # Get the first photo reference (you can loop through multiple references if needed)\n",
    "                photo_reference = details_data[\"result\"][\"photos\"][0][\"photo_reference\"]\n",
    "\n",
    "                # Get the photo URL\n",
    "                photo_url = get_photo_url(place_id, photo_reference, api_key)\n",
    "                row[\"Photo URL\"] = photo_url  # Add the photo URL to the row\n",
    "            else:\n",
    "                row[\"Photo URL\"] = \"N/A\"  # Set a placeholder value if no photo is available\n",
    "            \n",
    "            rows.append(row)\n",
    "\n",
    "    # Write the updated rows to a new CSV file\n",
    "    with open(csv_file, \"w\", newline=\"\") as file:\n",
    "        writer = csv.DictWriter(file, fieldnames=header)\n",
    "        writer.writeheader()\n",
    "        writer.writerows(rows)"
   ]
  },
  {
   "cell_type": "markdown",
   "metadata": {},
   "source": [
    "### Setting the CSV File and API Key\n",
    "The example code sets the `csv_file` variable to the path of the CSV file to be processed. It should be a valid path to the CSV file containing the place details.\n",
    "\n",
    "The `api_key` variable is set to your actual API key. Make sure to replace `\"ini api\"` with your own valid API key for accessing the Google Maps API.\n",
    "\n",
    "### Calling the `process_csv()` Function\n",
    "The `process_csv()` function is called with the `csv_file` and `api_key` as arguments. This function processes the CSV file, retrieves the place details using the Google Places API, adds the photo URLs to the CSV file, and saves the changes."
   ]
  },
  {
   "cell_type": "code",
   "execution_count": null,
   "metadata": {
    "id": "jjyPZF8mk1Ai"
   },
   "outputs": [],
   "source": [
    "# Example usage\n",
    "csv_file = \"/content/drive/MyDrive/For Capstone/Collecting data/Place Detail (Scored + Keyword Extracted  + Additional Feature).csv\"\n",
    "api_key = \" ini api \"\n",
    "\n",
    "process_csv(csv_file, api_key)"
   ]
  }
 ],
 "metadata": {
  "colab": {
   "provenance": []
  },
  "kernelspec": {
   "display_name": "Python 3 (ipykernel)",
   "language": "python",
   "name": "python3"
  },
  "language_info": {
   "codemirror_mode": {
    "name": "ipython",
    "version": 3
   },
   "file_extension": ".py",
   "mimetype": "text/x-python",
   "name": "python",
   "nbconvert_exporter": "python",
   "pygments_lexer": "ipython3",
   "version": "3.9.13"
  }
 },
 "nbformat": 4,
 "nbformat_minor": 1
}
