{
 "cells": [
  {
   "cell_type": "code",
   "execution_count": null,
   "metadata": {
    "colab": {
     "base_uri": "https://localhost:8080/"
    },
    "id": "PPVGoAYpd3Cv",
    "outputId": "660bb831-5356-4890-b60a-46dec4e20040"
   },
   "outputs": [
    {
     "name": "stdout",
     "output_type": "stream",
     "text": [
      "Looking in indexes: https://pypi.org/simple, https://us-python.pkg.dev/colab-wheels/public/simple/\n",
      "Requirement already satisfied: googlemaps in /usr/local/lib/python3.10/dist-packages (4.10.0)\n",
      "Requirement already satisfied: requests<3.0,>=2.20.0 in /usr/local/lib/python3.10/dist-packages (from googlemaps) (2.27.1)\n",
      "Requirement already satisfied: urllib3<1.27,>=1.21.1 in /usr/local/lib/python3.10/dist-packages (from requests<3.0,>=2.20.0->googlemaps) (1.26.15)\n",
      "Requirement already satisfied: certifi>=2017.4.17 in /usr/local/lib/python3.10/dist-packages (from requests<3.0,>=2.20.0->googlemaps) (2022.12.7)\n",
      "Requirement already satisfied: charset-normalizer~=2.0.0 in /usr/local/lib/python3.10/dist-packages (from requests<3.0,>=2.20.0->googlemaps) (2.0.12)\n",
      "Requirement already satisfied: idna<4,>=2.5 in /usr/local/lib/python3.10/dist-packages (from requests<3.0,>=2.20.0->googlemaps) (3.4)\n"
     ]
    }
   ],
   "source": [
    "!pip install googlemaps"
   ]
  },
  {
   "cell_type": "code",
   "execution_count": null,
   "metadata": {
    "id": "xrWOhwIteJiE"
   },
   "outputs": [],
   "source": [
    "import csv\n",
    "import requests"
   ]
  },
  {
   "cell_type": "code",
   "execution_count": null,
   "metadata": {
    "colab": {
     "base_uri": "https://localhost:8080/"
    },
    "id": "oCRJyCcKi9xx",
    "outputId": "38cb4ce5-5a61-46d8-8ab7-1cf14d06ed36"
   },
   "outputs": [
    {
     "name": "stdout",
     "output_type": "stream",
     "text": [
      "Mounted at /content/drive\n"
     ]
    }
   ],
   "source": [
    "from google.colab import drive\n",
    "drive.mount('/content/drive')"
   ]
  },
  {
   "cell_type": "code",
   "execution_count": null,
   "metadata": {
    "id": "fx-RndDudHF8"
   },
   "outputs": [],
   "source": [
    "def get_photo_url(place_id, photo_reference, api_key):\n",
    "    photo_url = f\"https://maps.googleapis.com/maps/api/place/photo?maxwidth=400&photoreference={photo_reference}&key={api_key}\"\n",
    "    response = requests.get(photo_url)\n",
    "    \n",
    "    if response.status_code == 200:\n",
    "        return response.url\n",
    "    \n",
    "    return None\n",
    "\n",
    "# Function to process the CSV file\n",
    "def process_csv(csv_file, api_key):\n",
    "    rows = []\n",
    "    \n",
    "    with open(csv_file, \"r\") as file:\n",
    "        reader = csv.DictReader(file)\n",
    "        header = reader.fieldnames\n",
    "        header.append(\"Photo URL\")  # Add a new column to the header\n",
    "        \n",
    "        for row in reader:\n",
    "            place_id = row[\"Place ID\"]\n",
    "\n",
    "            # Make a request to the Place Details API to get the place details\n",
    "            details_url = f\"https://maps.googleapis.com/maps/api/place/details/json?place_id={place_id}&key={api_key}\"\n",
    "            details_response = requests.get(details_url)\n",
    "            details_data = details_response.json()\n",
    "\n",
    "            # Check if the \"result\" field exists in the response data\n",
    "            if \"result\" in details_data and \"photos\" in details_data[\"result\"]:\n",
    "                # Get the first photo reference (you can loop through multiple references if needed)\n",
    "                photo_reference = details_data[\"result\"][\"photos\"][0][\"photo_reference\"]\n",
    "\n",
    "                # Get the photo URL\n",
    "                photo_url = get_photo_url(place_id, photo_reference, api_key)\n",
    "                row[\"Photo URL\"] = photo_url  # Add the photo URL to the row\n",
    "            else:\n",
    "                row[\"Photo URL\"] = \"N/A\"  # Set a placeholder value if no photo is available\n",
    "            \n",
    "            rows.append(row)\n",
    "\n",
    "    # Write the updated rows to a new CSV file\n",
    "    with open(csv_file, \"w\", newline=\"\") as file:\n",
    "        writer = csv.DictWriter(file, fieldnames=header)\n",
    "        writer.writeheader()\n",
    "        writer.writerows(rows)"
   ]
  },
  {
   "cell_type": "code",
   "execution_count": null,
   "metadata": {
    "id": "jjyPZF8mk1Ai"
   },
   "outputs": [],
   "source": [
    "# Example usage\n",
    "csv_file = \"/content/drive/MyDrive/For Capstone/Collecting data/Place Detail (Scored + Keyword Extracted  + Additional Feature).csv\"\n",
    "api_key = \" ini api \"\n",
    "\n",
    "process_csv(csv_file, api_key)"
   ]
  }
 ],
 "metadata": {
  "colab": {
   "provenance": []
  },
  "kernelspec": {
   "display_name": "Python 3 (ipykernel)",
   "language": "python",
   "name": "python3"
  },
  "language_info": {
   "codemirror_mode": {
    "name": "ipython",
    "version": 3
   },
   "file_extension": ".py",
   "mimetype": "text/x-python",
   "name": "python",
   "nbconvert_exporter": "python",
   "pygments_lexer": "ipython3",
   "version": "3.9.13"
  }
 },
 "nbformat": 4,
 "nbformat_minor": 1
}
