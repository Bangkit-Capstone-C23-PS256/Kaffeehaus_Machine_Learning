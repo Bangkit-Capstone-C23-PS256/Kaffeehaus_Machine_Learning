{
  "nbformat": 4,
  "nbformat_minor": 0,
  "metadata": {
    "colab": {
      "provenance": []
    },
    "kernelspec": {
      "name": "python3",
      "display_name": "Python 3"
    },
    "language_info": {
      "name": "python"
    }
  },
  "cells": [
    {
      "cell_type": "code",
      "source": [
        "!pip install sklearn"
      ],
      "metadata": {
        "id": "GQ7G-v-2bZOO"
      },
      "execution_count": null,
      "outputs": []
    },
    {
      "cell_type": "code",
      "source": [
        "import pandas as pd\n",
        "from sklearn.feature_extraction.text import TfidfVectorizer\n",
        "from sklearn.feature_extraction.text import CountVectorizer"
      ],
      "metadata": {
        "id": "Yh9uYq9cQ5_6"
      },
      "execution_count": 19,
      "outputs": []
    },
    {
      "cell_type": "code",
      "source": [
        "from google.colab import drive\n",
        "drive.mount('/content/drive')"
      ],
      "metadata": {
        "colab": {
          "base_uri": "https://localhost:8080/"
        },
        "id": "q6gzD8ouRBi1",
        "outputId": "40b06039-61a3-46c6-ae73-f65a2fc534ad"
      },
      "execution_count": 4,
      "outputs": [
        {
          "output_type": "stream",
          "name": "stdout",
          "text": [
            "Mounted at /content/drive\n"
          ]
        }
      ]
    },
    {
      "cell_type": "code",
      "source": [
        "data = pd.read_csv('/content/drive/MyDrive/For Capstone/Collecting data/Place Detail Keyword Vectorize.csv')\n",
        "\n",
        "# Mengisi nilai NaN dengan string kosong\n",
        "data['One_Keywords'] = data['One_Keywords'].fillna('')\n",
        "\n",
        "# Membuat instance dari TfidfVectorizer\n",
        "tfidf = TfidfVectorizer()\n",
        "\n",
        "# Melakukan vektorisasi pada kolom 'One_Keywords'\n",
        "tfidf_matrix = tfidf.fit_transform(data['One_Keywords'])\n",
        "\n",
        "# Membuat dataframe dari matriks TF-IDF\n",
        "tfidf_df = pd.DataFrame(tfidf_matrix.toarray(), columns=tfidf.get_feature_names_out())\n",
        "\n",
        "# Menggabungkan dataframe awal dengan dataframe TF-IDF\n",
        "merged_df = pd.concat([data, tfidf_df], axis=1)\n",
        "\n",
        "# Menyimpan dataframe ke file CSV\n",
        "merged_df.to_csv(\"/content/drive/MyDrive/For Capstone/Collecting data/Place_Detail_Keyword_Vectorize_TFIDF.csv\", index=False)"
      ],
      "metadata": {
        "id": "meARNBj3Xywb"
      },
      "execution_count": 24,
      "outputs": []
    },
    {
      "cell_type": "code",
      "source": [
        "import pandas as pd\n",
        "import numpy as np\n",
        "from sklearn.feature_extraction.text import TfidfVectorizer"
      ],
      "metadata": {
        "id": "66zMe0nCalro"
      },
      "execution_count": null,
      "outputs": []
    },
    {
      "cell_type": "code",
      "source": [
        "\n",
        "# Membaca data dari file CSV\n",
        "df = pd.read_csv('/content/drive/MyDrive/For Capstone/Collecting data/Place Detail Keyword Vectorize.csv')\n",
        "\n",
        "# Mengganti nilai np.nan dengan string kosong\n",
        "df['One_Keywords'] = df['One_Keywords'].fillna(\"\")\n",
        "\n",
        "# Inisialisasi objek TfidfVectorizer dan lakukan vektorisasi\n",
        "vectorizer = TfidfVectorizer()\n",
        "X = vectorizer.fit_transform(df['One_Keywords'])\n",
        "\n",
        "# Dapatkan representasi vektor TF-IDF dalam bentuk DataFrame\n",
        "tfidf_df = pd.DataFrame(X.toarray(), columns=vectorizer.get_feature_names_out())\n",
        "\n",
        "# Menggabungkan hasil vektor TF-IDF dengan data awal\n",
        "result_df = pd.concat([df, tfidf_df], axis=1)\n",
        "\n",
        "# Menyimpan hasil ke dalam file CSV\n",
        "result_df.to_csv('/content/drive/MyDrive/For Capstone/Collecting data/Place Detail Keyword Vectorize (finished).csv', index=False)\n",
        "\n"
      ],
      "metadata": {
        "id": "GXU_r9kotQ7X"
      },
      "execution_count": 6,
      "outputs": []
    }
  ]
}