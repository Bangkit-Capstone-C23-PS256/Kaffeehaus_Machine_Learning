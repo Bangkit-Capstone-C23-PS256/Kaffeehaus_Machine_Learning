{
  "nbformat": 4,
  "nbformat_minor": 0,
  "metadata": {
    "colab": {
      "provenance": []
    },
    "kernelspec": {
      "name": "python3",
      "display_name": "Python 3"
    },
    "language_info": {
      "name": "python"
    }
  },
  "cells": [
    {
      "cell_type": "code",
      "execution_count": null,
      "metadata": {
        "id": "mKmUf9pi6wGs"
      },
      "outputs": [],
      "source": [
        "import pickle"
      ]
    },
    {
      "cell_type": "code",
      "source": [
        "# Membaca data dari file CSV\n",
        "df = pd.read_csv('/content/drive/MyDrive/For Capstone/Collecting data/Place Detail (Scored + Keyword 1 & 2 Extracted  + Additional Feature (longlang, contact etc)) + (finished Vectorized).csv')\n",
        "\n",
        "# Mengganti nilai np.nan dengan string kosong\n",
        "df['One_Keywords'] = df['One_Keywords'].fillna(\"\")\n",
        "\n",
        "# Inisialisasi objek TfidfVectorizer dan lakukan vektorisasi\n",
        "vectorizer = TfidfVectorizer()\n",
        "X = vectorizer.fit_transform(df['One_Keywords'])\n",
        "\n",
        "# Menghitung cosine similarity antara representasi vektor TF-IDF\n",
        "cosine_sim = cosine_similarity(X)\n",
        "\n",
        "# Save cosine_sim as a pickle file\n",
        "with open('/content/drive/MyDrive/For Capstone/cosine_similarity.pkl', 'wb') as f:\n",
        "    pickle.dump(cosine_sim, f)\n",
        "\n",
        "# Save vectorizer as a pickle file\n",
        "with open('/content/drive/MyDrive/For Capstone/vectorizer.pkl', 'wb') as f:\n",
        "    pickle.dump(vectorizer, f)"
      ],
      "metadata": {
        "id": "qQZbOl5F61_T"
      },
      "execution_count": null,
      "outputs": []
    }
  ]
}