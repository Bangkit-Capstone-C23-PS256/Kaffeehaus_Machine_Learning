{
  "nbformat": 4,
  "nbformat_minor": 0,
  "metadata": {
    "colab": {
      "provenance": []
    },
    "kernelspec": {
      "name": "python3",
      "display_name": "Python 3"
    },
    "language_info": {
      "name": "python"
    }
  },
  "cells": [
    {
      "cell_type": "code",
      "source": [
        "import pandas as pd"
      ],
      "metadata": {
        "id": "GWexGyK3a58L"
      },
      "execution_count": null,
      "outputs": []
    },
    {
      "cell_type": "code",
      "source": [
        "from google.colab import drive\n",
        "drive.mount('/content/drive')"
      ],
      "metadata": {
        "colab": {
          "base_uri": "https://localhost:8080/"
        },
        "id": "D1ZgyYKda5XY",
        "outputId": "9e793d85-164f-4c13-c3a5-3c206d2868e4"
      },
      "execution_count": null,
      "outputs": [
        {
          "output_type": "stream",
          "name": "stdout",
          "text": [
            "Mounted at /content/drive\n"
          ]
        }
      ]
    },
    {
      "cell_type": "code",
      "source": [
        "# Define the word list\n",
        "word_list = ['cafes','place','parking','cafe','affordable', 'wifi', 'comfortable', 'cozy', 'friendly', 'cheap', 'delicious', 'ambience',\n",
        "             'atmosphere', 'recommended', 'hangout', 'nice', 'great', 'cool', 'students', 'stmj', 'noodles',\n",
        "             'relaxing', 'tea', 'fresh', 'vibes', 'quality', 'expensive', 'average', 'indoor', 'tofu', 'tasty',\n",
        "             'excellent', 'crowded', 'spacious', 'pocketfriendly', 'karaoke', 'night', 'view', 'Javanese', 'unique',\n",
        "             'chill', 'ambiance', 'hospitality', 'coffee', 'Malang', 'enjoy', 'service', 'awesome', 'meatballs',\n",
        "             'mosque', 'roadside', 'rooftop', 'nobar']\n",
        "\n",
        "# Read the CSV file\n",
        "df = pd.read_csv('/content/drive/MyDrive/For Capstone/Dataset/Place Detail - Place Detail - only keyword and Cafe name.csv')"
      ],
      "metadata": {
        "id": "qXnBBCUha7I-"
      },
      "execution_count": null,
      "outputs": []
    },
    {
      "cell_type": "code",
      "execution_count": null,
      "metadata": {
        "colab": {
          "base_uri": "https://localhost:8080/"
        },
        "id": "1rO5Ux5AasRj",
        "outputId": "098c42d7-5d50-44fc-bf63-9edc5169007c"
      },
      "outputs": [
        {
          "output_type": "stream",
          "name": "stdout",
          "text": [
            "                    Name                                       One_Keywords  \\\n",
            "0  Cafe Sawah Pujonkidul  cafes, pujon, sawah, enjoying, motorcycle, imp...   \n",
            "1    Cokelat Klasik Cafe  restaurant, cozy, highland, pic, cheaper, wifi...   \n",
            "2                NK Cafe  bali, cafegiving, villa, ambient, musholla, nk...   \n",
            "3          Bukit Delight  cafe, noodle, recomended, menu, outdoorindoor,...   \n",
            "4   Nakoa Cafe Bondowoso  cafe, nakoa, exploring, students, wifi, say, c...   \n",
            "\n",
            "   cafes  place  parking  cafe  affordable  wifi  comfortable  cozy  ...  \\\n",
            "0      1      0        0     1           0     0            0     0  ...   \n",
            "1      0      0        0     0           0     1            0     1  ...   \n",
            "2      0      0        0     1           0     0            0     0  ...   \n",
            "3      0      0        0     1           0     0            0     0  ...   \n",
            "4      0      0        0     1           0     1            0     0  ...   \n",
            "\n",
            "   coffee  Malang  enjoy  service  awesome  meatballs  mosque  roadside  \\\n",
            "0       0       0      1        0        0          0       0         0   \n",
            "1       0       0      0        0        0          0       0         0   \n",
            "2       0       0      1        0        0          0       0         0   \n",
            "3       0       0      0        0        0          0       0         0   \n",
            "4       0       0      0        0        0          0       0         0   \n",
            "\n",
            "   rooftop  nobar  \n",
            "0        0      0  \n",
            "1        0      0  \n",
            "2        0      0  \n",
            "3        0      0  \n",
            "4        0      0  \n",
            "\n",
            "[5 rows x 55 columns]\n"
          ]
        }
      ],
      "source": [
        "# Add a new column for each word in the word list\n",
        "for word in word_list:\n",
        "    df[word] = df['One_Keywords'].apply(lambda x: 1 if word in str(x) else 0)\n",
        "\n",
        "# Save the updated data to a new CSV file\n",
        "df.to_csv('/content/drive/MyDrive/For Capstone/Dataset/Place Detail - Place Detail - only keyword and Cafe name (Keyword Already Processed).csv', index=False)\n",
        "\n",
        "# Print sample output\n",
        "print(df.head())\n"
      ]
    }
  ]
}