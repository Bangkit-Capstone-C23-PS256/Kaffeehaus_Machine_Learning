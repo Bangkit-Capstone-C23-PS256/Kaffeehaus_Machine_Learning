{
  "nbformat": 4,
  "nbformat_minor": 0,
  "metadata": {
    "colab": {
      "provenance": []
    },
    "kernelspec": {
      "name": "python3",
      "display_name": "Python 3"
    },
    "language_info": {
      "name": "python"
    }
  },
  "cells": [
    {
      "cell_type": "code",
      "source": [
        "import pandas as pd\n",
        "import numpy as np\n",
        "from sklearn.feature_extraction.text import TfidfVectorizer\n",
        "from sklearn.metrics.pairwise import cosine_similarity"
      ],
      "metadata": {
        "id": "EFK7GxWTD9_e"
      },
      "execution_count": 1,
      "outputs": []
    },
    {
      "cell_type": "code",
      "source": [
        "from google.colab import drive\n",
        "drive.mount('/content/drive')"
      ],
      "metadata": {
        "colab": {
          "base_uri": "https://localhost:8080/"
        },
        "id": "8n7At2DqEEfu",
        "outputId": "de1298bb-fe82-46e2-bebe-b698dfc1d03e"
      },
      "execution_count": 2,
      "outputs": [
        {
          "output_type": "stream",
          "name": "stdout",
          "text": [
            "Mounted at /content/drive\n"
          ]
        }
      ]
    },
    {
      "cell_type": "code",
      "execution_count": 4,
      "metadata": {
        "colab": {
          "base_uri": "https://localhost:8080/"
        },
        "id": "Lt0hevnHD4Kn",
        "outputId": "f9add319-5081-4865-df17-bc305a99a6f8"
      },
      "outputs": [
        {
          "output_type": "stream",
          "name": "stdout",
          "text": [
            "Rekomendasi:\n",
            "4315                           El-Churros\n",
            "1144                      Cafein Sidoarjo\n",
            "2335    Djournal Coffee Tunjungan Plaza 4\n",
            "Name: Name, dtype: object\n"
          ]
        }
      ],
      "source": [
        "# Membaca data dari file CSV\n",
        "df = pd.read_csv('/content/drive/MyDrive/For Capstone/Collecting data/Place Detail Keyword Vectorize (finished).csv')\n",
        "\n",
        "# Mengganti nilai np.nan dengan string kosong\n",
        "df['One_Keywords'] = df['One_Keywords'].fillna(\"\")\n",
        "\n",
        "# Inisialisasi objek TfidfVectorizer dan lakukan vektorisasi\n",
        "vectorizer = TfidfVectorizer()\n",
        "X = vectorizer.fit_transform(df['One_Keywords'])\n",
        "\n",
        "# Menghitung cosine similarity antara representasi vektor TF-IDF\n",
        "cosine_sim = cosine_similarity(X)\n",
        "\n",
        "# Fungsi untuk memberikan rekomendasi\n",
        "def get_recommendations(item_title, cosine_similarities, df, top_n=5):\n",
        "    item_index = df[df['Name'] == item_title].index[0]  # Dapatkan indeks item acuan\n",
        "    similarity_scores = list(enumerate(cosine_similarities[item_index]))  # Dapatkan skor kesamaan dengan item lain\n",
        "    similarity_scores = sorted(similarity_scores, key=lambda x: x[1], reverse=True)  # Urutkan berdasarkan skor kesamaan\n",
        "    top_items = similarity_scores[1:top_n+1]  # Ambil top N item teratas (exluding item acuan)\n",
        "    top_item_indices = [i[0] for i in top_items]  # Dapatkan indeks item-item teratas\n",
        "    top_item_titles = df['Name'].iloc[top_item_indices]  # Dapatkan judul item-item teratas\n",
        "    return top_item_titles\n"
      ]
    },
    {
      "cell_type": "code",
      "source": [
        "# Contoh penggunaan: Memberikan rekomendasi untuk item acuan \"Cafe Sawah Pujonkidul\"\n",
        "recommendations = get_recommendations(\"Cokelat Klasik Cafe\", cosine_sim, df, top_n=7)\n",
        "print(\"Rekomendasi:\")\n",
        "print(recommendations)"
      ],
      "metadata": {
        "colab": {
          "base_uri": "https://localhost:8080/"
        },
        "id": "62sXnjdcE2q7",
        "outputId": "c219fb5c-83b9-48fd-a955-4c6b8820f735"
      },
      "execution_count": 5,
      "outputs": [
        {
          "output_type": "stream",
          "name": "stdout",
          "text": [
            "Rekomendasi:\n",
            "4315                           El-Churros\n",
            "1144                      Cafein Sidoarjo\n",
            "2335    Djournal Coffee Tunjungan Plaza 4\n",
            "3401              SEMEDULUR COFFEE KLATEN\n",
            "1647                      WARUNG GIRAS 77\n",
            "3328                           D'PRAPATAN\n",
            "3804                       Toko Kopi Kala\n",
            "Name: Name, dtype: object\n"
          ]
        }
      ]
    }
  ]
}