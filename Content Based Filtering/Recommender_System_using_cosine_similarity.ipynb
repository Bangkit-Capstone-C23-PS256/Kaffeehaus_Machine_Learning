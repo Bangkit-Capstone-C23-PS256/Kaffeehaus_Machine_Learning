{
  "nbformat": 4,
  "nbformat_minor": 0,
  "metadata": {
    "colab": {
      "provenance": []
    },
    "kernelspec": {
      "name": "python3",
      "display_name": "Python 3"
    },
    "language_info": {
      "name": "python"
    }
  },
  "cells": [
    {
      "cell_type": "markdown",
      "source": [
        "# Code Documentation\n",
        "\n",
        "## Library Imports\n",
        "\n",
        "The following libraries are imported in the code:\n",
        "\n",
        "- `pandas` (imported as `pd`): A library for data manipulation and analysis.\n",
        "- `numpy` (imported as `np`): A library for numerical computing in Python.\n",
        "- `sklearn.feature_extraction.text.TfidfVectorizer`: A module from scikit-learn that converts a collection of raw documents to a matrix of TF-IDF features.\n",
        "- `sklearn.metrics.pairwise.cosine_similarity`: A module from scikit-learn that computes the cosine similarity between pairs of samples.\n"
      ],
      "metadata": {
        "id": "aix5b_n68kXe"
      }
    },
    {
      "cell_type": "code",
      "source": [
        "import pandas as pd\n",
        "import numpy as np\n",
        "from sklearn.feature_extraction.text import TfidfVectorizer\n",
        "from sklearn.metrics.pairwise import cosine_similarity"
      ],
      "metadata": {
        "id": "EFK7GxWTD9_e"
      },
      "execution_count": 2,
      "outputs": []
    },
    {
      "cell_type": "markdown",
      "source": [
        "# Library Imports\n",
        "\n",
        "The following library is imported in the code:\n",
        "\n",
        "- `google.colab`: A library for working with Google Colab, a cloud-based Jupyter notebook environment.\n",
        "\n",
        "## Functionality\n",
        "\n",
        "1. The code snippet uses the `google.colab` library to mount the Google Drive to the Colab runtime. This allows accessing and working with files and directories in the Google Drive within the Colab environment.\n",
        "\n",
        "2. The `drive.mount()` function is called with the /content/drive directory as the mount point, where the Google Drive will be mounted. Once the Google Drive is successfully mounted, the files and directories within it can be accessed using standard file I/O operations.\n"
      ],
      "metadata": {
        "id": "i7vGpp1j-VBt"
      }
    },
    {
      "cell_type": "code",
      "source": [
        "from google.colab import drive\n",
        "drive.mount('/content/drive')"
      ],
      "metadata": {
        "colab": {
          "base_uri": "https://localhost:8080/"
        },
        "id": "8n7At2DqEEfu",
        "outputId": "25ee55a5-32aa-4026-f228-751ba0206475"
      },
      "execution_count": 3,
      "outputs": [
        {
          "output_type": "stream",
          "name": "stdout",
          "text": [
            "Mounted at /content/drive\n"
          ]
        }
      ]
    },
    {
      "cell_type": "markdown",
      "source": [
        "# Code\n",
        "\n",
        "## The code snippet performs the following tasks:\n",
        "\n",
        "- The code snippet uses the `pd.read_csv()` function from the pandas library to read data from a CSV file.\n",
        "\n",
        "- The file path of the CSV file is specified as `/content/drive/MyDrive/For Capstone/Collecting data/Place Detail (Scored + Keyword 1 & 2 Extracted + Additional Feature (longlang, contact etc)) + (finished Vectorized).csv`.\n",
        "\n",
        "- The data from the CSV file is then stored in the variable `df`, which is likely a pandas DataFrame object. The DataFrame can be further processed and analyzed using the capabilities provided by the pandas library."
      ],
      "metadata": {
        "id": "gvE_AGDU-gE3"
      }
    },
    {
      "cell_type": "code",
      "execution_count": 4,
      "metadata": {
        "id": "Lt0hevnHD4Kn"
      },
      "outputs": [],
      "source": [
        "# Membaca data dari file CSV\n",
        "df = pd.read_csv('/content/drive/MyDrive/For Capstone/Collecting data/Place Detail (Scored + Keyword 1 & 2 Extracted  + Additional Feature (longlang, contact etc)) + (finished Vectorized).csv')"
      ]
    },
    {
      "cell_type": "markdown",
      "source": [
        "## The code snippet demonstrates the following functionality:\n",
        "\n",
        "- It preprocesses the `One_Keywords` column in the DataFrame by replacing `np.nan` values with empty strings.\n",
        "- It performs TF-IDF vectorization on the preprocessed `One_Keywords` column using the `TfidfVectorizer` from `scikit-learn`.\n",
        "- It computes the cosine similarity between the TF-IDF vector representations.\n",
        "- It provides a `get_recommendations()` function to retrieve the top N recommended items based on cosine similarity, given an item title."
      ],
      "metadata": {
        "id": "hr6N-JNp-2dI"
      }
    },
    {
      "cell_type": "code",
      "source": [
        "# Mengganti nilai np.nan dengan string kosong\n",
        "df['One_Keywords'] = df['One_Keywords'].fillna(\"\")\n",
        "\n",
        "# Inisialisasi objek TfidfVectorizer dan lakukan vektorisasi\n",
        "vectorizer = TfidfVectorizer()\n",
        "X = vectorizer.fit_transform(df['One_Keywords'])\n",
        "\n",
        "# Menghitung cosine similarity antara representasi vektor TF-IDF\n",
        "cosine_sim = cosine_similarity(X)\n",
        "\n",
        "# Fungsi untuk memberikan rekomendasi\n",
        "def get_recommendations(item_title, cosine_similarities, df, top_n=5):\n",
        "    item_index = df[df['Name'] == item_title].index[0]  # Dapatkan indeks item acuan\n",
        "    similarity_scores = list(enumerate(cosine_similarities[item_index]))  # Dapatkan skor kesamaan dengan item lain\n",
        "    similarity_scores = sorted(similarity_scores, key=lambda x: x[1], reverse=True)  # Urutkan berdasarkan skor kesamaan\n",
        "    top_items = similarity_scores[1:top_n+1]  # Ambil top N item teratas (exluding item acuan)\n",
        "    top_item_indices = [i[0] for i in top_items]  # Dapatkan indeks item-item teratas\n",
        "    top_item_titles = df['Name'].iloc[top_item_indices]  # Dapatkan judul item-item teratas\n",
        "    return top_item_titles"
      ],
      "metadata": {
        "id": "7voID-qPvST9"
      },
      "execution_count": 5,
      "outputs": []
    },
    {
      "cell_type": "markdown",
      "source": [
        "# Functionality\n",
        "## The code snippet demonstrates the following functionality:\n",
        "\n",
        "- It calls the `get_recommendations()` function with a specific item title, cosine similarity matrix, DataFrame, and the desired number of top recommendations.\n",
        "- The function returns a list of recommended item titles based on cosine similarity.\n",
        "- The recommended item titles are then printed to the console."
      ],
      "metadata": {
        "id": "R0QK9OSD_2uz"
      }
    },
    {
      "cell_type": "code",
      "source": [
        "# Contoh penggunaan: Memberikan rekomendasi untuk item acuan \"Cafe Sawah Pujonkidul\"\n",
        "\n",
        "recommendations = get_recommendations(\"Warkop Brewok II\", cosine_sim, df, top_n=10)\n",
        "print(\"Rekomendasi:\")\n",
        "print(recommendations)\n"
      ],
      "metadata": {
        "colab": {
          "base_uri": "https://localhost:8080/"
        },
        "id": "62sXnjdcE2q7",
        "outputId": "dfeaf53b-f296-41a5-ca3a-e1f6ed61aec1"
      },
      "execution_count": 6,
      "outputs": [
        {
          "output_type": "stream",
          "name": "stdout",
          "text": [
            "Rekomendasi:\n",
            "2522               Warkop Ucok Kediri\n",
            "999                    Tematik Coffee\n",
            "1776                       Merci Cafe\n",
            "1787           bitiga Coffee and Food\n",
            "3886                      Kopi Shinta\n",
            "208       Das.kopi (kopi.ketan.pecel)\n",
            "2352    Sebelas Coffee Crafter Klaten\n",
            "2329              MOKSHA COFFEE SPACE\n",
            "2454                       Kopi Lokal\n",
            "2944                   Omah Majapahit\n",
            "Name: Name, dtype: object\n"
          ]
        }
      ]
    },
    {
      "cell_type": "markdown",
      "source": [
        "# Creating a Different Output from the First Code\n",
        "\n",
        "Example:\n",
        "> 'name': 'Warkop Ucok Kediri', 'address': 'Jl. Patiunus No.21, Kemasan, Kec. Kota, Kota Kediri, Jawa Timur 64129, Indonesia', 'rating': 4.6, 'total_review': 64, 'url_photo': [link foto](https://lh3.googleusercontent.com/places/ANJU3Dsy73PEHuK0qVfnJM1_Qcc-tzPrrk0YGsXbwTsvjJOTnvvCKvh0ZkN_CXa2U8TBuJPczUcv35YVCAJ1kbnCQY-_vTFVMTuBWMU=s1600-w400)"
      ],
      "metadata": {
        "id": "wqHv2MwK7zF6"
      }
    },
    {
      "cell_type": "code",
      "source": [
        "def get_recommendations(item_title, cosine_similarities, df, top_n=5):\n",
        "    item_index = df[df['Name'] == item_title].index[0]  # Get the index of the reference item\n",
        "    similarity_scores = list(enumerate(cosine_similarities[item_index]))  # Get the similarity scores with other items\n",
        "    similarity_scores = sorted(similarity_scores, key=lambda x: x[1], reverse=True)  # Sort by similarity scores\n",
        "    top_items = similarity_scores[1:top_n+1]  # Take the top N items (excluding the reference item)\n",
        "    top_item_indices = [i[0] for i in top_items]  # Get the indices of the top items\n",
        "    top_item_data = df.iloc[top_item_indices].reset_index(drop=True)  # Get the data of the top items and reset index\n",
        "\n",
        "    # Create a list of dictionaries for the recommended items\n",
        "    recommendations = []\n",
        "    for _, row in top_item_data.iterrows():\n",
        "        recommendation = {\n",
        "            'name': row['Name'],\n",
        "            'address': row['Formatted Address'],\n",
        "            'rating': row['rating'],\n",
        "            'total_review': row['total_reviews'],\n",
        "            'url_photo': row.get('Photo URL', 'N/A')\n",
        "        }\n",
        "        recommendations.append(recommendation)\n",
        "\n",
        "    return recommendations\n"
      ],
      "metadata": {
        "id": "Un0YNrP610UB"
      },
      "execution_count": 8,
      "outputs": []
    },
    {
      "cell_type": "code",
      "source": [
        "# Get recommendations\n",
        "recommendations = get_recommendations(\"Warkop Brewok II\", cosine_sim, df, top_n=10)\n",
        "\n",
        "# Print the recommendations\n",
        "print(\"Rekomendasi:\")\n",
        "for recommendation in recommendations:\n",
        "    print(recommendation)"
      ],
      "metadata": {
        "colab": {
          "base_uri": "https://localhost:8080/"
        },
        "id": "0CIK2ma-DobA",
        "outputId": "72d6b8df-c538-4c08-c357-3106b1144a0f"
      },
      "execution_count": 9,
      "outputs": [
        {
          "output_type": "stream",
          "name": "stdout",
          "text": [
            "Rekomendasi:\n",
            "{'name': 'Warkop Ucok Kediri', 'address': 'Jl. Patiunus No.21, Kemasan, Kec. Kota, Kota Kediri, Jawa Timur 64129, Indonesia', 'rating': 4.6, 'total_review': 64, 'url_photo': 'https://lh3.googleusercontent.com/places/ANJU3Dsy73PEHuK0qVfnJM1_Qcc-tzPrrk0YGsXbwTsvjJOTnvvCKvh0ZkN_CXa2U8TBuJPczUcv35YVCAJ1kbnCQY-_vTFVMTuBWMU=s1600-w400'}\n",
            "{'name': 'Tematik Coffee', 'address': 'Jl. Kalimantan No.54, Kasin, Kec. Klojen, Kota Malang, Jawa Timur 65117, Indonesia', 'rating': 4.9, 'total_review': 51, 'url_photo': 'https://lh3.googleusercontent.com/places/ANJU3Dum9fUhiRXZstNUc1UcCVPHUgnB-8Opvibp03bQzRc7HkMik6wMt8yDgmkM3Z3w9afb9dFJT_ltlmCoj5LBsUBewKTLtDtuK2Y=s1600-w400'}\n",
            "{'name': 'Merci Cafe', 'address': 'Jl. Kav. DPR III No.23, Nggrekmas, Pagerwojo, Kec. Buduran, Kabupaten Sidoarjo, Jawa Timur 61252, Indonesia', 'rating': 4.6, 'total_review': 817, 'url_photo': 'https://lh3.googleusercontent.com/places/ANJU3Duo2nzd8_vuaBwgN266FKyVtIjAPGCCsjgTI0Rs_NJGcj5XIxbcRxVhaRIRDQPqnEvAYXwwGq94bFdI0jBtARxiWS_EkmSGeg=s1600-w400'}\n",
            "{'name': 'bitiga Coffee and Food', 'address': 'Jl. Joyo Agung No.100a, Merjosari, Kec. Lowokwaru, Kota Malang, Jawa Timur 65144, Indonesia', 'rating': 4.6, 'total_review': 785, 'url_photo': 'https://lh3.googleusercontent.com/places/ANJU3DuRnSdzynDA9pnD1U6pnCN7TxewZAE45eSrZmhwkbX1VWTS5ljykrtbjnWCHbK0Gt_QaZUSoBF3MgnOuM2FuTXi5ZM-2RbMbEk=s1600-w400'}\n",
            "{'name': 'Kopi Shinta', 'address': 'Jl. Jenderal Sudirman Kepanjen No.06, Ngadilangkung, Kec. Kepanjen, Kabupaten Malang, Jawa Timur 65163, Indonesia', 'rating': 4.2, 'total_review': 82, 'url_photo': 'https://lh3.googleusercontent.com/places/ANJU3Dtd66SaXp6X46gdgDGthn8FENGDfj2wJ_cQMRXrc6J0iCsU5EkxD-5ooUVc31T1TY-p3dKb5_lJ3jOydaeUCDJS8kBDKYLvFnQ=s1600-w400'}\n",
            "{'name': 'Das.kopi (kopi.ketan.pecel)', 'address': 'Jl. Ahmad Yani, Banurejo, Kepanjen, Kec. Kepanjen, Kabupaten Malang, Jawa Timur 65163, Indonesia', 'rating': 5.0, 'total_review': 11, 'url_photo': 'https://lh3.googleusercontent.com/places/ANJU3Dvl37C7bqfGS8tdUnpphQw-ckJo-OghmggHiSqynVaLPvzK7QxDH3rhW3TxbmVKlV8rODo8H47_k21cA_mYjiY23XxO0C-u988=s1600-w400'}\n",
            "{'name': 'Sebelas Coffee Crafter Klaten', 'address': 'Jl. Merbabu No.9A, Gayamprit, Kec. Klaten Sel., Kabupaten Klaten, Jawa Tengah 57423, Indonesia', 'rating': 4.6, 'total_review': 239, 'url_photo': 'https://lh3.googleusercontent.com/places/ANJU3Dt_8A2zl91plJdMGKbIFK8p4TlsHg8cKCDTF1Q4KJBBKVmM-45buH2xn9VQpiE1NI-WeGd27hCbwHv1HfCwgdx75wAPhSnlhzE=s1600-w400'}\n",
            "{'name': 'MOKSHA COFFEE SPACE', 'address': 'Jl. Sriwijaya No.36, Podosugih, Kec. Pekalongan Bar., Kota Pekalongan, Jawa Tengah 51111, Indonesia', 'rating': 4.6, 'total_review': 266, 'url_photo': 'https://lh3.googleusercontent.com/places/ANJU3Ds6e5TXF5XGSQ_JcEygvAcPZKCy1HeFPixsJiqCykDh-LAOjRZyPX1x8IkqPh6GNWe6_u7N2UG_UzwxcTOFAty8E-SJC8c1hvo=s1600-w400'}\n",
            "{'name': 'Kopi Lokal', 'address': 'Mojolangu, Lowokwaru, Malang City, East Java 65142, Indonesia', 'rating': 4.6, 'total_review': 111, 'url_photo': 'https://lh3.googleusercontent.com/places/ANJU3Ds8MT_AJYd578dzfjhg9xe5OMr6BciqXVMX-XwIe8OGtBZU6vN4_pb4moFaPM1JxWfJ4rtMDgU8LsOjPRnE30KBZfstcuNzGDA=s1600-w400'}\n",
            "{'name': 'Omah Majapahit', 'address': 'Jl. Ki Soreng No.39, Nglawian Satu, Karangjati, Kec. Blora, Kabupaten Blora, Jawa Tengah 58219, Indonesia', 'rating': 4.5, 'total_review': 149, 'url_photo': 'https://lh3.googleusercontent.com/places/ANJU3Du0HF8kodg_vFrJCX4oPEZ28mQSvuqdlUy7kIcxgUCTwap9F3lrTEFOpARAMhAhq2e_rZMR9UFA8rpRA0jDCoL_mXYIdhy-Q-Y=s1600-w400'}\n"
          ]
        }
      ]
    },
    {
      "cell_type": "markdown",
      "source": [],
      "metadata": {
        "id": "QXyiRIi1DoTn"
      }
    },
    {
      "cell_type": "markdown",
      "source": [
        "# Import Pickle File For Back-End requirements\n",
        "\n",
        "- It saves the computed cosine_sim object as a pickle file.\n",
        "- It saves the vectorizer object as a pickle file.\n"
      ],
      "metadata": {
        "id": "glA-QOsC8X_q"
      }
    },
    {
      "cell_type": "code",
      "source": [
        "import pickle\n",
        "\n",
        "# Membaca data dari file CSV\n",
        "df = pd.read_csv('/content/drive/MyDrive/For Capstone/Collecting data/Place Detail (Scored + Keyword 1 & 2 Extracted  + Additional Feature (longlang, contact etc)) + (finished Vectorized).csv')\n",
        "\n",
        "# Mengganti nilai np.nan dengan string kosong\n",
        "df['One_Keywords'] = df['One_Keywords'].fillna(\"\")\n",
        "\n",
        "# Inisialisasi objek TfidfVectorizer dan lakukan vektorisasi\n",
        "vectorizer = TfidfVectorizer()\n",
        "X = vectorizer.fit_transform(df['One_Keywords'])\n",
        "\n",
        "# Menghitung cosine similarity antara representasi vektor TF-IDF\n",
        "cosine_sim = cosine_similarity(X)\n",
        "\n",
        "# Save cosine_sim as a pickle file\n",
        "with open('/content/drive/MyDrive/For Capstone/cosine_similarity.pkl', 'wb') as f:\n",
        "    pickle.dump(cosine_sim, f)\n",
        "\n",
        "# Save vectorizer as a pickle file\n",
        "with open('/content/drive/MyDrive/For Capstone/vectorizer.pkl', 'wb') as f:\n",
        "    pickle.dump(vectorizer, f)"
      ],
      "metadata": {
        "id": "F7IytngY7qTo"
      },
      "execution_count": null,
      "outputs": []
    }
  ]
}