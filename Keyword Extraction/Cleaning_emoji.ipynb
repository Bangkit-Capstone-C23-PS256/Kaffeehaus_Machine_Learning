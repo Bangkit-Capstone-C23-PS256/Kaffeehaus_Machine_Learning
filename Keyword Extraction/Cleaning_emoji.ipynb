{
 "cells": [
  {
   "cell_type": "code",
   "execution_count": 1,
   "metadata": {},
   "outputs": [],
   "source": [
    "import pandas as pd\n",
    "import re\n",
    "from keybert import KeyBERT\n",
    "from sklearn.feature_extraction.text import CountVectorizer\n",
    "from ast import literal_eval"
   ]
  },
  {
   "cell_type": "code",
   "execution_count": 2,
   "metadata": {},
   "outputs": [],
   "source": [
    "def remove_emoji(text):\n",
    "    emoji_pattern = re.compile(\"[\"\n",
    "                               u\"\\U0001F600-\\U0001F64F\"  # emoticons\n",
    "                               u\"\\U0001F300-\\U0001F5FF\"  # symbols & pictographs\n",
    "                               u\"\\U0001F680-\\U0001F6FF\"  # transport & map symbols\n",
    "                               u\"\\U0001F1E0-\\U0001F1FF\"  # flags (iOS)\n",
    "                               u\"\\U00002500-\\U00002BEF\"  # CJK characters\n",
    "                               u\"\\U00002702-\\U000027B0\"\n",
    "                               u\"\\U000024C2-\\U0001F251\"\n",
    "                               u\"\\U0001f926-\\U0001f937\"\n",
    "                               u\"\\U00010000-\\U0010FFFF\"\n",
    "                               u\"\\u2640-\\u2642\"\n",
    "                               u\"\\u2600-\\u2B55\"\n",
    "                               u\"\\u200d\"\n",
    "                               u\"\\u23cf\"\n",
    "                               u\"\\u23e9\"\n",
    "                               u\"\\u231a\"\n",
    "                               u\"\\ufe0f\"  # dingbats font\n",
    "                               u\"\\u3030\"\n",
    "                               \"]+\", flags=re.UNICODE)\n",
    "    return emoji_pattern.sub(r'', text)\n",
    "\n",
    "def remove_non_ascii(text):\n",
    "    # Menghapus karakter non-ASCII\n",
    "    text = re.sub(r'[^\\x00-\\x7F]+', '', text)\n",
    "    return text\n",
    "\n",
    "def remove_symbols(text):\n",
    "    # Menghapus simbol-simbol yang tidak diinginkan\n",
    "    symbols_pattern = re.compile(r'[^a-zA-Z0-9\\s]')\n",
    "    text = re.sub(symbols_pattern, '', text)\n",
    "    return text\n",
    "\n",
    "# Membaca file CSV\n",
    "data = pd.read_csv('Place_Detail_Scored.csv', encoding='unicode_escape')\n",
    "\n",
    "# Mengubah kolom 'Review Text' menjadi tipe data string\n",
    "data['Review Text'] = data['Review Text'].astype(str)\n",
    "\n",
    "# Menghapus emoji, karakter non-ASCII, dan simbol-simbol tidak diinginkan\n",
    "data['Review Text'] = data['Review Text'].apply(remove_emoji)\n",
    "data['Review Text'] = data['Review Text'].apply(remove_non_ascii)\n",
    "data['Review Text'] = data['Review Text'].apply(remove_symbols)\n",
    "\n",
    "# Inisialisasi model KeyBERT\n",
    "kw_model = KeyBERT()\n",
    "\n",
    "# Proses setiap teks ulasan dan ekstraksi kata kunci\n",
    "for index, row in data.iterrows():\n",
    "    review_text = row['Review Text']\n",
    "    keywords = kw_model.extract_keywords(review_text, keyphrase_ngram_range=(1, 2), stop_words='english',\n",
    "                                         use_maxsum=True, nr_candidates=20, top_n=10)\n",
    "    data.at[index, 'Keywords'] = ', '.join([kw for kw, _ in keywords])\n",
    "\n",
    "# Menyimpan DataFrame yang telah dimodifikasi ke file CSV baru\n",
    "data.to_csv('Dataset_cleanfix.csv', index=False)\n"
   ]
  },
  {
   "cell_type": "code",
   "execution_count": null,
   "metadata": {},
   "outputs": [],
   "source": []
  }
 ],
 "metadata": {
  "interpreter": {
   "hash": "ac59ebe37160ed0dfa835113d9b8498d9f09ceb179beaac4002f036b9467c963"
  },
  "kernelspec": {
   "display_name": "Python 3 (ipykernel)",
   "language": "python",
   "name": "python3"
  },
  "language_info": {
   "codemirror_mode": {
    "name": "ipython",
    "version": 3
   },
   "file_extension": ".py",
   "mimetype": "text/x-python",
   "name": "python",
   "nbconvert_exporter": "python",
   "pygments_lexer": "ipython3",
   "version": "3.10.9"
  }
 },
 "nbformat": 4,
 "nbformat_minor": 2
}
