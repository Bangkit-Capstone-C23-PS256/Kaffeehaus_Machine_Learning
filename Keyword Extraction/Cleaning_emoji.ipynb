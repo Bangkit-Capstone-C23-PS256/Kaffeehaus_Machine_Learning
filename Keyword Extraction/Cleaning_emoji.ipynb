{
 "cells": [
  {
   "cell_type": "code",
   "execution_count": 1,
   "metadata": {},
   "outputs": [],
   "source": [
    "import pandas as pd\n",
    "from keybert import KeyBERT\n",
    "from sklearn.feature_extraction.text import CountVectorizer\n",
    "from ast import literal_eval"
   ]
  },
  {
   "cell_type": "code",
   "execution_count": null,
   "metadata": {},
   "outputs": [],
   "source": [
    "\n",
    "# Membaca file CSV\n",
    "data = pd.read_csv('Dataset_clean.csv', encoding='unicode_escape')\n",
    "\n",
    "# Mengubah kolom 'Review Text' menjadi tipe data string\n",
    "data['Review Text'] = data['Review Text'].astype(str)\n",
    "\n",
    "# Inisialisasi model KeyBERT\n",
    "kw_model = KeyBERT()\n",
    "\n",
    "# Proses setiap teks ulasan dan ekstraksi kata kunci\n",
    "for index, row in data.iterrows():\n",
    "    review_text = row['Review Text']\n",
    "    keywords = kw_model.extract_keywords(review_text, keyphrase_ngram_range=(1, 2), stop_words='english',\n",
    "                                         use_maxsum=True, nr_candidates=20, top_n=10)\n",
    "    data.at[index, 'Keywords'] = ', '.join([kw for kw, _ in keywords])\n",
    "\n",
    "# Menyimpan DataFrame yang telah dimodifikasi ke file CSV baru\n",
    "data.to_csv('Fixx.csv', index=False)\n"
   ]
  },
  {
   "cell_type": "code",
   "execution_count": null,
   "metadata": {},
   "outputs": [],
   "source": []
  }
 ],
 "metadata": {
  "interpreter": {
   "hash": "ac59ebe37160ed0dfa835113d9b8498d9f09ceb179beaac4002f036b9467c963"
  },
  "kernelspec": {
   "display_name": "Python 3 (ipykernel)",
   "language": "python",
   "name": "python3"
  },
  "language_info": {
   "codemirror_mode": {
    "name": "ipython",
    "version": 3
   },
   "file_extension": ".py",
   "mimetype": "text/x-python",
   "name": "python",
   "nbconvert_exporter": "python",
   "pygments_lexer": "ipython3",
   "version": "3.10.9"
  }
 },
 "nbformat": 4,
 "nbformat_minor": 2
}
