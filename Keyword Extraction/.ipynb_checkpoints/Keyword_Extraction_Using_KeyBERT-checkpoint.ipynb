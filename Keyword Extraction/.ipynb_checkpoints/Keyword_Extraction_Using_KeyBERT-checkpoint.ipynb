{
 "cells": [
  {
   "cell_type": "markdown",
   "id": "8f5a590f",
   "metadata": {},
   "source": [
    "# Code Documentation\n",
    "\n",
    "### Installing `keybert`\n",
    "The code includes the command `!pip install keybert` to install the `keybert` package. This command uses the pip package manager to download and install the `keybert` package, which is a Python library for keyword extraction and keyphrase extraction using BERT embeddings."
   ]
  },
  {
   "cell_type": "code",
   "execution_count": 1,
   "id": "j1c4mFwzbX0q",
   "metadata": {
    "colab": {
     "base_uri": "https://localhost:8080/"
    },
    "id": "j1c4mFwzbX0q",
    "outputId": "9701dc1d-1e21-4a64-ea6a-917502b0e823"
   },
   "outputs": [
    {
     "name": "stdout",
     "output_type": "stream",
     "text": [
      "Requirement already satisfied: keybert in c:\\users\\valerie\\anaconda3\\lib\\site-packages (0.7.0)\n",
      "Requirement already satisfied: rich>=10.4.0 in c:\\users\\valerie\\anaconda3\\lib\\site-packages (from keybert) (13.3.5)\n",
      "Requirement already satisfied: scikit-learn>=0.22.2 in c:\\users\\valerie\\anaconda3\\lib\\site-packages (from keybert) (1.2.2)\n",
      "Requirement already satisfied: numpy>=1.18.5 in c:\\users\\valerie\\anaconda3\\lib\\site-packages (from keybert) (1.23.5)\n",
      "Requirement already satisfied: sentence-transformers>=0.3.8 in c:\\users\\valerie\\anaconda3\\lib\\site-packages (from keybert) (2.2.2)\n",
      "Requirement already satisfied: markdown-it-py<3.0.0,>=2.2.0 in c:\\users\\valerie\\anaconda3\\lib\\site-packages (from rich>=10.4.0->keybert) (2.2.0)\n",
      "Requirement already satisfied: pygments<3.0.0,>=2.13.0 in c:\\users\\valerie\\anaconda3\\lib\\site-packages (from rich>=10.4.0->keybert) (2.15.1)\n",
      "Requirement already satisfied: joblib>=1.1.1 in c:\\users\\valerie\\anaconda3\\lib\\site-packages (from scikit-learn>=0.22.2->keybert) (1.2.0)\n",
      "Requirement already satisfied: scipy>=1.3.2 in c:\\users\\valerie\\anaconda3\\lib\\site-packages (from scikit-learn>=0.22.2->keybert) (1.9.1)\n",
      "Requirement already satisfied: threadpoolctl>=2.0.0 in c:\\users\\valerie\\anaconda3\\lib\\site-packages (from scikit-learn>=0.22.2->keybert) (2.2.0)\n",
      "Requirement already satisfied: torch>=1.6.0 in c:\\users\\valerie\\anaconda3\\lib\\site-packages (from sentence-transformers>=0.3.8->keybert) (2.0.1)\n",
      "Requirement already satisfied: tqdm in c:\\users\\valerie\\anaconda3\\lib\\site-packages (from sentence-transformers>=0.3.8->keybert) (4.64.1)\n",
      "Requirement already satisfied: nltk in c:\\users\\valerie\\anaconda3\\lib\\site-packages (from sentence-transformers>=0.3.8->keybert) (3.7)\n",
      "Requirement already satisfied: huggingface-hub>=0.4.0 in c:\\users\\valerie\\anaconda3\\lib\\site-packages (from sentence-transformers>=0.3.8->keybert) (0.14.1)\n",
      "Requirement already satisfied: transformers<5.0.0,>=4.6.0 in c:\\users\\valerie\\anaconda3\\lib\\site-packages (from sentence-transformers>=0.3.8->keybert) (4.29.2)\n",
      "Requirement already satisfied: sentencepiece in c:\\users\\valerie\\anaconda3\\lib\\site-packages (from sentence-transformers>=0.3.8->keybert) (0.1.99)\n",
      "Requirement already satisfied: torchvision in c:\\users\\valerie\\anaconda3\\lib\\site-packages (from sentence-transformers>=0.3.8->keybert) (0.15.2)\n",
      "Requirement already satisfied: pyyaml>=5.1 in c:\\users\\valerie\\anaconda3\\lib\\site-packages (from huggingface-hub>=0.4.0->sentence-transformers>=0.3.8->keybert) (6.0)\n",
      "Requirement already satisfied: packaging>=20.9 in c:\\users\\valerie\\anaconda3\\lib\\site-packages (from huggingface-hub>=0.4.0->sentence-transformers>=0.3.8->keybert) (21.3)\n",
      "Requirement already satisfied: typing-extensions>=3.7.4.3 in c:\\users\\valerie\\anaconda3\\lib\\site-packages (from huggingface-hub>=0.4.0->sentence-transformers>=0.3.8->keybert) (4.3.0)\n",
      "Requirement already satisfied: filelock in c:\\users\\valerie\\anaconda3\\lib\\site-packages (from huggingface-hub>=0.4.0->sentence-transformers>=0.3.8->keybert) (3.6.0)\n",
      "Requirement already satisfied: requests in c:\\users\\valerie\\anaconda3\\lib\\site-packages (from huggingface-hub>=0.4.0->sentence-transformers>=0.3.8->keybert) (2.28.1)\n",
      "Requirement already satisfied: fsspec in c:\\users\\valerie\\anaconda3\\lib\\site-packages (from huggingface-hub>=0.4.0->sentence-transformers>=0.3.8->keybert) (2022.7.1)\n",
      "Requirement already satisfied: mdurl~=0.1 in c:\\users\\valerie\\anaconda3\\lib\\site-packages (from markdown-it-py<3.0.0,>=2.2.0->rich>=10.4.0->keybert) (0.1.2)\n",
      "Requirement already satisfied: sympy in c:\\users\\valerie\\anaconda3\\lib\\site-packages (from torch>=1.6.0->sentence-transformers>=0.3.8->keybert) (1.10.1)\n",
      "Requirement already satisfied: jinja2 in c:\\users\\valerie\\anaconda3\\lib\\site-packages (from torch>=1.6.0->sentence-transformers>=0.3.8->keybert) (2.11.3)\n",
      "Requirement already satisfied: networkx in c:\\users\\valerie\\anaconda3\\lib\\site-packages (from torch>=1.6.0->sentence-transformers>=0.3.8->keybert) (2.8.4)\n",
      "Requirement already satisfied: colorama in c:\\users\\valerie\\anaconda3\\lib\\site-packages (from tqdm->sentence-transformers>=0.3.8->keybert) (0.4.5)\n",
      "Requirement already satisfied: regex!=2019.12.17 in c:\\users\\valerie\\anaconda3\\lib\\site-packages (from transformers<5.0.0,>=4.6.0->sentence-transformers>=0.3.8->keybert) (2022.7.9)\n",
      "Requirement already satisfied: tokenizers!=0.11.3,<0.14,>=0.11.1 in c:\\users\\valerie\\anaconda3\\lib\\site-packages (from transformers<5.0.0,>=4.6.0->sentence-transformers>=0.3.8->keybert) (0.13.3)\n",
      "Requirement already satisfied: click in c:\\users\\valerie\\anaconda3\\lib\\site-packages (from nltk->sentence-transformers>=0.3.8->keybert) (8.0.4)\n",
      "Requirement already satisfied: pillow!=8.3.*,>=5.3.0 in c:\\users\\valerie\\anaconda3\\lib\\site-packages (from torchvision->sentence-transformers>=0.3.8->keybert) (9.2.0)\n",
      "Requirement already satisfied: pyparsing!=3.0.5,>=2.0.2 in c:\\users\\valerie\\anaconda3\\lib\\site-packages (from packaging>=20.9->huggingface-hub>=0.4.0->sentence-transformers>=0.3.8->keybert) (3.0.9)\n",
      "Requirement already satisfied: MarkupSafe>=0.23 in c:\\users\\valerie\\anaconda3\\lib\\site-packages (from jinja2->torch>=1.6.0->sentence-transformers>=0.3.8->keybert) (2.0.1)\n",
      "Requirement already satisfied: certifi>=2017.4.17 in c:\\users\\valerie\\anaconda3\\lib\\site-packages (from requests->huggingface-hub>=0.4.0->sentence-transformers>=0.3.8->keybert) (2022.9.14)\n",
      "Requirement already satisfied: charset-normalizer<3,>=2 in c:\\users\\valerie\\anaconda3\\lib\\site-packages (from requests->huggingface-hub>=0.4.0->sentence-transformers>=0.3.8->keybert) (2.0.4)\n",
      "Requirement already satisfied: urllib3<1.27,>=1.21.1 in c:\\users\\valerie\\anaconda3\\lib\\site-packages (from requests->huggingface-hub>=0.4.0->sentence-transformers>=0.3.8->keybert) (1.26.11)\n",
      "Requirement already satisfied: idna<4,>=2.5 in c:\\users\\valerie\\anaconda3\\lib\\site-packages (from requests->huggingface-hub>=0.4.0->sentence-transformers>=0.3.8->keybert) (3.3)\n",
      "Requirement already satisfied: mpmath>=0.19 in c:\\users\\valerie\\anaconda3\\lib\\site-packages (from sympy->torch>=1.6.0->sentence-transformers>=0.3.8->keybert) (1.2.1)\n"
     ]
    }
   ],
   "source": [
    "!pip install keybert"
   ]
  },
  {
   "cell_type": "markdown",
   "id": "11bd278a",
   "metadata": {},
   "source": []
  },
  {
   "cell_type": "code",
   "execution_count": null,
   "id": "750ea19c",
   "metadata": {
    "id": "750ea19c"
   },
   "outputs": [],
   "source": [
    "import re\n",
    "import pandas as pd\n",
    "from keybert import KeyBERT"
   ]
  },
  {
   "cell_type": "code",
   "execution_count": null,
   "id": "ec4b339b",
   "metadata": {
    "id": "ec4b339b"
   },
   "outputs": [],
   "source": [
    "# Load the CSV data\n",
    "data = pd.read_csv('/content/drive/MyDrive/For Capstone/Collecting data/Place Detail (Scored).csv')\n",
    "\n",
    "# Create a new column for the extracted keywords\n",
    "data['One_Keywords'] = ''\n",
    "\n",
    "# Initialize the KeyBERT model\n",
    "model = KeyBERT()\n",
    "\n",
    "# Define a function to remove strange symbols and emojis from text\n",
    "def clean_text(text):\n",
    "    # Remove non-alphanumeric characters\n",
    "    text = re.sub(r'[^a-zA-Z0-9\\s]', '', text)\n",
    "\n",
    "    # Remove emojis\n",
    "    emoji_pattern = re.compile(\"[\"\n",
    "                               u\"\\U0001F600-\\U0001F64F\"  # emoticons\n",
    "                               u\"\\U0001F300-\\U0001F5FF\"  # symbols & pictographs\n",
    "                               u\"\\U0001F680-\\U0001F6FF\"  # transport & map symbols\n",
    "                               u\"\\U0001F1E0-\\U0001F1FF\"  # flags (iOS)\n",
    "                               u\"\\U00002702-\\U000027B0\"\n",
    "                               u\"\\U000024C2-\\U0001F251\"\n",
    "                               \"]+\", flags=re.UNICODE)\n",
    "    text = emoji_pattern.sub(r'', text)\n",
    "\n",
    "    return text.strip()\n",
    "\n",
    "# Process each review text and extract keywords\n",
    "for index, row in data.iterrows():\n",
    "    review_text = row['Review Text']\n",
    "\n",
    "    if isinstance(review_text, str):\n",
    "        cleaned_text = clean_text(review_text)\n",
    "        keywords = model.extract_keywords(cleaned_text, keyphrase_ngram_range=(1, 1), stop_words='english',\n",
    "                                          use_maxsum=True, nr_candidates=20, top_n=10, use_mmr=True, diversity=0.65)\n",
    "        data.at[index, 'One_Keywords'] = ', '.join([kw for kw, _ in keywords])\n",
    "    else:\n",
    "        data.at[index, 'One_Keywords'] = ''  # or any other appropriate handling for non-string values\n"
   ]
  },
  {
   "cell_type": "code",
   "execution_count": null,
   "id": "f45b0684",
   "metadata": {
    "id": "f45b0684"
   },
   "outputs": [],
   "source": [
    "# Save the updated data to a new CSV file\n",
    "data.to_csv('/content/drive/MyDrive/For Capstone/Collecting data/Place Detail (Scored + Keyword Extracted).csv', index=False)"
   ]
  }
 ],
 "metadata": {
  "colab": {
   "provenance": []
  },
  "kernelspec": {
   "display_name": "Python 3 (ipykernel)",
   "language": "python",
   "name": "python3"
  },
  "language_info": {
   "codemirror_mode": {
    "name": "ipython",
    "version": 3
   },
   "file_extension": ".py",
   "mimetype": "text/x-python",
   "name": "python",
   "nbconvert_exporter": "python",
   "pygments_lexer": "ipython3",
   "version": "3.9.13"
  }
 },
 "nbformat": 4,
 "nbformat_minor": 5
}
