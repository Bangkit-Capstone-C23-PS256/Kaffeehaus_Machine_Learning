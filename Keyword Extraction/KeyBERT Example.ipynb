{
 "cells": [
  {
   "cell_type": "code",
   "execution_count": 1,
   "id": "c2faf4dd",
   "metadata": {},
   "outputs": [
    {
     "data": {
      "application/vnd.jupyter.widget-view+json": {
       "model_id": "25326ea720864f379e067532a5c32082",
       "version_major": 2,
       "version_minor": 0
      },
      "text/plain": [
       "Downloading (…)e9125/.gitattributes:   0%|          | 0.00/1.18k [00:00<?, ?B/s]"
      ]
     },
     "metadata": {},
     "output_type": "display_data"
    },
    {
     "data": {
      "application/vnd.jupyter.widget-view+json": {
       "model_id": "ece5d71cd1ed4297947008576ec3862c",
       "version_major": 2,
       "version_minor": 0
      },
      "text/plain": [
       "Downloading (…)_Pooling/config.json:   0%|          | 0.00/190 [00:00<?, ?B/s]"
      ]
     },
     "metadata": {},
     "output_type": "display_data"
    },
    {
     "data": {
      "application/vnd.jupyter.widget-view+json": {
       "model_id": "ba6a663602494f9cb26f94344c4bb0d1",
       "version_major": 2,
       "version_minor": 0
      },
      "text/plain": [
       "Downloading (…)7e55de9125/README.md:   0%|          | 0.00/10.6k [00:00<?, ?B/s]"
      ]
     },
     "metadata": {},
     "output_type": "display_data"
    },
    {
     "data": {
      "application/vnd.jupyter.widget-view+json": {
       "model_id": "799d9a2e236f4415b3810f8fd4c68ed2",
       "version_major": 2,
       "version_minor": 0
      },
      "text/plain": [
       "Downloading (…)55de9125/config.json:   0%|          | 0.00/612 [00:00<?, ?B/s]"
      ]
     },
     "metadata": {},
     "output_type": "display_data"
    },
    {
     "data": {
      "application/vnd.jupyter.widget-view+json": {
       "model_id": "91c7ee250c0640c79babb1ae6f97c75a",
       "version_major": 2,
       "version_minor": 0
      },
      "text/plain": [
       "Downloading (…)ce_transformers.json:   0%|          | 0.00/116 [00:00<?, ?B/s]"
      ]
     },
     "metadata": {},
     "output_type": "display_data"
    },
    {
     "data": {
      "application/vnd.jupyter.widget-view+json": {
       "model_id": "f5a6d3e8995e46d3924e650dc89a68ec",
       "version_major": 2,
       "version_minor": 0
      },
      "text/plain": [
       "Downloading (…)125/data_config.json:   0%|          | 0.00/39.3k [00:00<?, ?B/s]"
      ]
     },
     "metadata": {},
     "output_type": "display_data"
    },
    {
     "data": {
      "application/vnd.jupyter.widget-view+json": {
       "model_id": "4a7f46f80c6c4ce4ad7f2b4af66137db",
       "version_major": 2,
       "version_minor": 0
      },
      "text/plain": [
       "Downloading pytorch_model.bin:   0%|          | 0.00/90.9M [00:00<?, ?B/s]"
      ]
     },
     "metadata": {},
     "output_type": "display_data"
    },
    {
     "data": {
      "application/vnd.jupyter.widget-view+json": {
       "model_id": "6d51fb4374784f2997cb4a7ca4e7b492",
       "version_major": 2,
       "version_minor": 0
      },
      "text/plain": [
       "Downloading (…)nce_bert_config.json:   0%|          | 0.00/53.0 [00:00<?, ?B/s]"
      ]
     },
     "metadata": {},
     "output_type": "display_data"
    },
    {
     "data": {
      "application/vnd.jupyter.widget-view+json": {
       "model_id": "be8cc05b55f34c5b8ba4d0a2f1c5a40f",
       "version_major": 2,
       "version_minor": 0
      },
      "text/plain": [
       "Downloading (…)cial_tokens_map.json:   0%|          | 0.00/112 [00:00<?, ?B/s]"
      ]
     },
     "metadata": {},
     "output_type": "display_data"
    },
    {
     "data": {
      "application/vnd.jupyter.widget-view+json": {
       "model_id": "d09033bf7515435689bfd9b7aaf1430f",
       "version_major": 2,
       "version_minor": 0
      },
      "text/plain": [
       "Downloading (…)e9125/tokenizer.json:   0%|          | 0.00/466k [00:00<?, ?B/s]"
      ]
     },
     "metadata": {},
     "output_type": "display_data"
    },
    {
     "data": {
      "application/vnd.jupyter.widget-view+json": {
       "model_id": "af1cbd2b8f0d415faf71b2ee46b644fa",
       "version_major": 2,
       "version_minor": 0
      },
      "text/plain": [
       "Downloading (…)okenizer_config.json:   0%|          | 0.00/350 [00:00<?, ?B/s]"
      ]
     },
     "metadata": {},
     "output_type": "display_data"
    },
    {
     "data": {
      "application/vnd.jupyter.widget-view+json": {
       "model_id": "ddaf33ecdd674f4b8c7e040f13470e17",
       "version_major": 2,
       "version_minor": 0
      },
      "text/plain": [
       "Downloading (…)9125/train_script.py:   0%|          | 0.00/13.2k [00:00<?, ?B/s]"
      ]
     },
     "metadata": {},
     "output_type": "display_data"
    },
    {
     "data": {
      "application/vnd.jupyter.widget-view+json": {
       "model_id": "7c43514217274b0aad3757dbed6c89cb",
       "version_major": 2,
       "version_minor": 0
      },
      "text/plain": [
       "Downloading (…)7e55de9125/vocab.txt:   0%|          | 0.00/232k [00:00<?, ?B/s]"
      ]
     },
     "metadata": {},
     "output_type": "display_data"
    },
    {
     "data": {
      "application/vnd.jupyter.widget-view+json": {
       "model_id": "313d59644e2b40119e4ab3f110ccd86b",
       "version_major": 2,
       "version_minor": 0
      },
      "text/plain": [
       "Downloading (…)5de9125/modules.json:   0%|          | 0.00/349 [00:00<?, ?B/s]"
      ]
     },
     "metadata": {},
     "output_type": "display_data"
    },
    {
     "name": "stdout",
     "output_type": "stream",
     "text": [
      "[('pujon', 0.5183), ('cafes', 0.4741), ('cafe', 0.4545), ('tourist', 0.3614), ('taxi', 0.3491)]\n"
     ]
    }
   ],
   "source": [
    "from keybert import KeyBERT\n",
    "doc = \"\"\"\n",
    "         Cafe Sawah Pujon Kidul is one of the cafes located in the Pujon area. This cafe is close to residential areas. Here there are various kinds of food and drinks at low prices. In addition, in this cafe there are also rides for games for children, teenagers and adults. Beautiful scenery and cool weather make people who visit the cafe enjoy the atmosphere there more. The car park here is wide, but tourists who use buses must use a motorcycle taxi service to go to the location, because the parking lot is quite far from the location. Apart from that, there tourists can bring souvenirs such as vegetables, fruit, fresh milk and others because there is a market available for shopping.\n",
    "\n",
    "Great atmosphere, this place for city folks who doesn't connect to the nature on everyday life. Good place for eating some snacks and talks. They have guide to show the place around. This cafe managed by locals. The access to this is through the locals street so be careful when you go there cause there's kids on the road that play around. They have Guest house on this cafe.\n",
    "The only downside here is that they play music from the speaker. For people like me who works in the city pak enjoying the silence of nature is better than some bad sound from speaker.\n",
    "\n",
    "it such wonderful and peaceful place for you having holiday with family and friends. we can enjoy the beautiful scenery of the farming field and having snacks in the middle of farm. we can also buy directly from the farm of vegetables that are harvested 🥰\n",
    "\n",
    "Overall the cafe sawah itself is ok. Nice view. Service could be improved for better.\n",
    "Rather difficult to order and take long time to get the food we order. Taste is standard. Ambience is ok. They also have rooftop area. There are some spots to take a picture (perhaps this is its USP Unique selling proposition).\n",
    "\n",
    "Price is affordable, eventhough some visitors say the price is expensive.\n",
    "If you want to go here just for eating, you will be disappointed because it is located inside village tourism area so that to enter/reach the restaurant, you have to pay ticket in the locket (12,5K/person) and parking (10k for car).\n",
    "Payment : cash in major.\n",
    "\n",
    "Pujon Kidul Sawah Cafe is a tourist spot in Malang that combines Instagramable tourist attractions with a natural atmosphere and typical rural culinary offerings.\n",
    ".\n",
    "As the name implies, this Pujon Kidul Sawah Cafe in Malang offers a wide green rice field landscape that is refreshing to the eyes.\n",
    ".\n",
    "At Cafe Sawah Pujon Kidul you can also eat a variety of grown-up cuisines ranging from vegetable soup, vegetable lodeh, stir-fried long beans, urap-urap and many other dishes.\n",
    ".\n",
    "Entrance ticket is only Rp. 15,000, we can already enjoy the views and Instagramable spots.\n",
    "What are you waiting for.. let's visit this place.. highly recommended!!\"\"\"\n",
    "kw_model = KeyBERT()\n",
    "keywords = kw_model.extract_keywords(doc)\n",
    "print(keywords)"
   ]
  },
  {
   "cell_type": "code",
   "execution_count": 2,
   "id": "842b811e",
   "metadata": {},
   "outputs": [
    {
     "name": "stdout",
     "output_type": "stream",
     "text": [
      "[('sawah cafe', 0.5446), ('pujon area', 0.5446), ('sawah pujon', 0.544), ('cafe sawah', 0.5428), ('pujon', 0.5183)]\n"
     ]
    }
   ],
   "source": [
    "keywords = kw_model.extract_keywords(doc, keyphrase_ngram_range=(1, 2), stop_words=None)\n",
    "print(keywords)"
   ]
  },
  {
   "cell_type": "code",
   "execution_count": 6,
   "id": "c86efc33",
   "metadata": {},
   "outputs": [
    {
     "name": "stdout",
     "output_type": "stream",
     "text": [
      "[('area cafe', 0.4166), ('cafe downside', 0.4468), ('implies pujon', 0.4664), ('cafe rides', 0.4751), ('pujon kidul', 0.4906), ('cafe enjoy', 0.5008), ('located pujon', 0.5128), ('cafe sawah', 0.5428), ('sawah pujon', 0.544), ('kidul cafes', 0.5496)]\n"
     ]
    }
   ],
   "source": [
    "keywords = kw_model.extract_keywords(doc, keyphrase_ngram_range=(1, 2), stop_words='english',\n",
    "                              use_maxsum=True, nr_candidates=20, top_n=10)\n",
    "print(keywords)\n",
    "\n"
   ]
  },
  {
   "cell_type": "code",
   "execution_count": null,
   "id": "46b0cb27",
   "metadata": {},
   "outputs": [],
   "source": []
  }
 ],
 "metadata": {
  "kernelspec": {
   "display_name": "Python 3 (ipykernel)",
   "language": "python",
   "name": "python3"
  },
  "language_info": {
   "codemirror_mode": {
    "name": "ipython",
    "version": 3
   },
   "file_extension": ".py",
   "mimetype": "text/x-python",
   "name": "python",
   "nbconvert_exporter": "python",
   "pygments_lexer": "ipython3",
   "version": "3.9.13"
  }
 },
 "nbformat": 4,
 "nbformat_minor": 5
}
