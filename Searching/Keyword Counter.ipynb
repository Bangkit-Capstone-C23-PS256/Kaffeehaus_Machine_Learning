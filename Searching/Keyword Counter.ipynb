{
 "cells": [
  {
   "cell_type": "code",
   "execution_count": 1,
   "id": "62d7ae2a",
   "metadata": {},
   "outputs": [],
   "source": [
    "import pandas as pd\n",
    "from collections import Counter"
   ]
  },
  {
   "cell_type": "code",
   "execution_count": 2,
   "id": "b86fbb0e",
   "metadata": {},
   "outputs": [
    {
     "name": "stdout",
     "output_type": "stream",
     "text": [
      "brawijaya: 8\n",
      "nice: 6\n",
      "place,: 6\n",
      "cafe: 5\n",
      "cozy,: 5\n",
      "friendly,: 5\n",
      "hangout: 4\n",
      "affordable,: 4\n",
      "try: 4\n",
      "places: 4\n",
      "chill,: 4\n",
      "passionate: 4\n",
      "coffee,: 4\n",
      "quality: 4\n",
      "coffees,: 4\n",
      "barista: 4\n",
      "perfect,: 4\n",
      "brawijaya,: 4\n",
      "universitas: 4\n",
      "pujon,: 3\n",
      "cafe,: 2\n",
      "bali,: 2\n",
      "highland: 2\n",
      "place: 2\n",
      "area: 1\n",
      "downside,: 1\n",
      "implies: 1\n",
      "rides,: 1\n",
      "pujon: 1\n",
      "kidul,: 1\n",
      "enjoy,: 1\n",
      "located: 1\n",
      "sawah,: 1\n",
      "sawah: 1\n",
      "kidul: 1\n",
      "cafes: 1\n",
      "weather,: 1\n",
      "equipped: 1\n",
      "amenities,: 1\n",
      "good: 1\n",
      "food,: 1\n",
      "experience: 1\n",
      "nk,: 1\n",
      "giving,: 1\n",
      "middle: 1\n",
      "touch: 1\n",
      "weather: 1\n",
      "nice,: 1\n",
      "villa: 1\n",
      "rooms: 1\n",
      "scenery: 1\n",
      "great,: 1\n",
      "cheaper: 1\n",
      "restaurant,: 1\n",
      "foods: 1\n",
      "chillin: 1\n",
      "time,: 1\n",
      "hangout,: 1\n",
      "serving,: 1\n"
     ]
    }
   ],
   "source": [
    "# Load the CSV file\n",
    "df = pd.read_csv('untitled (extracted).csv')\n",
    "\n",
    "# Extract the keywords from the 'Keywords' column\n",
    "keywords = df['Keywords'].str.lower().str.split()\n",
    "\n",
    "# Count the occurrences of each word\n",
    "word_counts = Counter([word for keyword in keywords for word in keyword])\n",
    "\n",
    "# Sort the word counts in descending order\n",
    "sorted_word_counts = sorted(word_counts.items(), key=lambda x: x[1], reverse=True)\n",
    "\n",
    "# Print the sorted word counts\n",
    "for word, count in sorted_word_counts:\n",
    "    print(f\"{word}: {count}\")"
   ]
  },
  {
   "cell_type": "code",
   "execution_count": null,
   "id": "d7167b6a",
   "metadata": {},
   "outputs": [],
   "source": []
  }
 ],
 "metadata": {
  "kernelspec": {
   "display_name": "Python 3 (ipykernel)",
   "language": "python",
   "name": "python3"
  },
  "language_info": {
   "codemirror_mode": {
    "name": "ipython",
    "version": 3
   },
   "file_extension": ".py",
   "mimetype": "text/x-python",
   "name": "python",
   "nbconvert_exporter": "python",
   "pygments_lexer": "ipython3",
   "version": "3.9.13"
  }
 },
 "nbformat": 4,
 "nbformat_minor": 5
}
