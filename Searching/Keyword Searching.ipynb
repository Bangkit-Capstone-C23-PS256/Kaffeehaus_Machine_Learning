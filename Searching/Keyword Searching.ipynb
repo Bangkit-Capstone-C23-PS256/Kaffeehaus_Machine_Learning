{
 "cells": [
  {
   "cell_type": "code",
   "execution_count": 1,
   "id": "ff95c191",
   "metadata": {},
   "outputs": [],
   "source": [
    "import pandas as pd\n",
    "import re\n",
    "from nltk.corpus import stopwords\n",
    "from nltk.tokenize import word_tokenize"
   ]
  },
  {
   "cell_type": "code",
   "execution_count": 2,
   "id": "10f65ebc",
   "metadata": {},
   "outputs": [],
   "source": [
    "data = pd.read_csv('untitled (extracted).csv')"
   ]
  },
  {
   "cell_type": "code",
   "execution_count": 6,
   "id": "60d0f98d",
   "metadata": {},
   "outputs": [],
   "source": [
    "# Define the set of stop words\n",
    "stop_words = set(stopwords.words('english'))\n",
    "\n",
    "# Define the search keywords\n",
    "search_query = \"caffe that have a beafutiful scenery place\"\n",
    "\n",
    "# Preprocess the search query by removing stop words and splitting into individual words\n",
    "# search_keywords = [word.lower().strip() for word in search_query if word.lower().strip() not in stop_words]\n",
    "\n",
    "# Search for cafes with the specified keywords\n",
    "matching_cafes = []\n"
   ]
  },
  {
   "cell_type": "code",
   "execution_count": 7,
   "id": "39bf0e16",
   "metadata": {},
   "outputs": [
    {
     "name": "stdout",
     "output_type": "stream",
     "text": [
      "['caffe', 'beafutiful', 'scenery', 'place']\n"
     ]
    }
   ],
   "source": [
    "\n",
    "# Preprocess the search query by splitting and removing symbols\n",
    "search_keywords = re.findall(r'\\b\\w+\\b', search_query.lower())\n",
    "\n",
    "# Remove stop words from the search keywords\n",
    "search_keywords = [word for word in search_keywords if word not in stop_words]\n",
    "\n",
    "print(search_keywords)"
   ]
  },
  {
   "cell_type": "code",
   "execution_count": 9,
   "id": "6d650574",
   "metadata": {},
   "outputs": [
    {
     "name": "stdout",
     "output_type": "stream",
     "text": [
      "['Baraka Coffee House', 'Baraka Coffee House', 'Baraka Coffee House', 'Baraka Coffee House', 'Cokelat Klasik Cafe', 'Baraka Coffee House', 'Baraka Coffee House', 'Baraka Coffee House', 'Baraka Coffee House', 'Cokelat Klasik Cafe']\n"
     ]
    }
   ],
   "source": [
    "for index, row in data.iterrows():\n",
    "    # Get the keywords from the 'Keywords' column and split them into tokens\n",
    "    keywords = str(row['Keywords']).split(',')\n",
    "    \n",
    "    # Preprocess the keywords by removing stop words\n",
    "    keyword_tokens = [word.lower().strip() for keyword in keywords for word in word_tokenize(keyword) if word.lower().strip() not in stop_words]\n",
    "    \n",
    "    # Check if any of the search keywords exist in the cafe keywords\n",
    "    if any(keyword in keyword_tokens for keyword in search_keywords):\n",
    "        matching_cafes.append(row['Name'])\n",
    "\n",
    "# Print the cafes that match the search keywords\n",
    "print(matching_cafes)"
   ]
  },
  {
   "cell_type": "code",
   "execution_count": 70,
   "id": "16eca2f7",
   "metadata": {},
   "outputs": [
    {
     "name": "stdout",
     "output_type": "stream",
     "text": [
      "['Cokelat Klasik Cafe']\n"
     ]
    }
   ],
   "source": [
    "for index, row in data.iterrows():\n",
    "    # Get the keywords from the 'Keywords' column\n",
    "    keywords = str(row['Keywords'])\n",
    "    \n",
    "    # Check if the keywords are not null (NaN)\n",
    "    if isinstance(keywords, str):\n",
    "        # Preprocess the keywords by splitting and removing symbols\n",
    "        keyword_tokens = re.findall(r'\\b\\w+\\b', keywords.lower())\n",
    "        \n",
    "        # Remove stop words from the cafe keywords\n",
    "        keyword_tokens = [word for word in keyword_tokens if word not in stop_words]\n",
    "        \n",
    "        # Check if any of the search keywords exist in the cafe keywords\n",
    "        if all(keyword in keyword_tokens for keyword in search_keywords):\n",
    "            matching_cafes.append(row['Cafe Name'])\n",
    "\n",
    "print(matching_cafes)"
   ]
  },
  {
   "cell_type": "code",
   "execution_count": null,
   "id": "59f0f82a",
   "metadata": {},
   "outputs": [],
   "source": []
  }
 ],
 "metadata": {
  "kernelspec": {
   "display_name": "Python 3 (ipykernel)",
   "language": "python",
   "name": "python3"
  },
  "language_info": {
   "codemirror_mode": {
    "name": "ipython",
    "version": 3
   },
   "file_extension": ".py",
   "mimetype": "text/x-python",
   "name": "python",
   "nbconvert_exporter": "python",
   "pygments_lexer": "ipython3",
   "version": "3.9.13"
  }
 },
 "nbformat": 4,
 "nbformat_minor": 5
}
