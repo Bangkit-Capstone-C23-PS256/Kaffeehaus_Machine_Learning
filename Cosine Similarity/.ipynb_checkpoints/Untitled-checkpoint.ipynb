{
 "cells": [
  {
   "cell_type": "code",
   "execution_count": 17,
   "id": "d1b3da66",
   "metadata": {},
   "outputs": [
    {
     "name": "stdout",
     "output_type": "stream",
     "text": [
      "Search: wifi\n",
      "Cosine similarity terbesar: 0.6933752452815365\n",
      "Teks yang paling mirip: {'Name': 'Kopi Ireng Ndeso', 'Place ID': 'ChIJT8D01Rko1i0Rou4UsZMsDqs', 'Formatted Address': 'Jl. A. Yani No.190, Bokor, Turen, Kec. Turen, Kabupaten Malang, Jawa Timur 65175, Indonesia', 'Category': 'cafe, store, point_of_interest, food, establishment', 'rating': '4.4', 'total_reviews': '75', 'Price Level': '1.0', 'Review Text': 'Its suitable for hanging out while playing games los wifi\\n\\nCheap and cheerful free wifi perfect for relaxing enjoying delicious cheap coffee Toilets are also available\\n\\nIts good for hanging out with friends wifi is also smooth Thats great \\n\\nDrinking coffee first here wont regret it always want to drink coffee all the time until morning guaranteed coffee is always healthy and reliable from trusted coffee bean seeds\\n\\nP black coffee one brother', 'rating_normalized': '8.500.000.000.000.000', 'reviews_normalized': '42.841.428.819.544', 'score': '5.962.852.428.645.860', 'rank': '3927', 'Keywords': 'perfect relaxing, coffee brother, trusted coffee, los wifi, wifi smooth, coffee toilets, free wifi, wifi cheap, friends wifi, coffee healthy'}\n",
      "Baris yang terkait:\n",
      "Name: Kopi Ireng Ndeso\n"
     ]
    }
   ],
   "source": [
    "import numpy as np\n",
    "import csv\n",
    "import chardet\n",
    "from sklearn.feature_extraction.text import CountVectorizer\n",
    "from sklearn.metrics.pairwise import cosine_similarity\n",
    "\n",
    "# Calculate the cosine similarity between two texts\n",
    "def calculate_cosine_similarity(text1, text2, threshold=0.6):\n",
    "    if text1 is None or text2 is None:\n",
    "        return 0.0\n",
    "    \n",
    "    vectorizer = CountVectorizer(min_df=1).fit_transform([text1, text2])\n",
    "    vectors = vectorizer.toarray()\n",
    "    similarity = cosine_similarity(vectors[0].reshape(1, -1), vectors[1].reshape(1, -1))\n",
    "    \n",
    "    if similarity[0][0] >= threshold:\n",
    "        return similarity[0][0]\n",
    "    else:\n",
    "        return 0.0\n",
    "\n",
    "def read_csv_data(file_path):\n",
    "    data = []\n",
    "    column_names = []\n",
    "    with open(file_path, 'r', encoding='utf-8') as file:\n",
    "        csv_reader = csv.DictReader(file)\n",
    "        column_names = csv_reader.fieldnames\n",
    "        for row in csv_reader:\n",
    "            data.append(row)\n",
    "    return data, column_names\n",
    "\n",
    "def get_row_by_index(data, index):\n",
    "    if index < len(data):\n",
    "        return data[index]\n",
    "    return None\n",
    "\n",
    "def get_columns_by_index(row, column_names):\n",
    "    selected_columns = [row[column_name] for column_name in column_names]\n",
    "    return selected_columns\n",
    "\n",
    "# Asking User Input\n",
    "user_input = input(\"Search: \")\n",
    "\n",
    "# Retrieve extraction data and column names from CSV file\n",
    "csv_data, column_names = read_csv_data('Hasil_Ekstraksi_Clean.csv')\n",
    "\n",
    "# Calculate cosine similarity between each extracted data and user input\n",
    "similarities = []\n",
    "for row in csv_data:\n",
    "    similarity = calculate_cosine_similarity(row['Keywords'], user_input)\n",
    "    similarities.append(similarity)\n",
    "\n",
    "# Display the largest cosine similarity result\n",
    "max_similarity = np.max(similarities)\n",
    "max_index = np.argmax(similarities)\n",
    "most_similar_row = get_row_by_index(csv_data, max_index)\n",
    "\n",
    "columns_to_display = ['Name']  # Nama kolom yang ingin ditampilkan\n",
    "selected_columns = get_columns_by_index(most_similar_row, columns_to_display)\n",
    "\n",
    "if selected_columns is not None:\n",
    "    print(\"Cosine similarity terbesar:\", max_similarity)\n",
    "    print(\"Baris yang terkait:\")\n",
    "    for column_name, value in zip(columns_to_display, selected_columns):\n",
    "        print(f\"{column_name}: {value}\")\n"
   ]
  },
  {
   "cell_type": "code",
   "execution_count": null,
   "id": "8210422c",
   "metadata": {},
   "outputs": [],
   "source": []
  },
  {
   "cell_type": "code",
   "execution_count": null,
   "id": "58d625d8",
   "metadata": {},
   "outputs": [],
   "source": []
  }
 ],
 "metadata": {
  "kernelspec": {
   "display_name": "Python 3 (ipykernel)",
   "language": "python",
   "name": "python3"
  },
  "language_info": {
   "codemirror_mode": {
    "name": "ipython",
    "version": 3
   },
   "file_extension": ".py",
   "mimetype": "text/x-python",
   "name": "python",
   "nbconvert_exporter": "python",
   "pygments_lexer": "ipython3",
   "version": "3.10.9"
  }
 },
 "nbformat": 4,
 "nbformat_minor": 5
}
