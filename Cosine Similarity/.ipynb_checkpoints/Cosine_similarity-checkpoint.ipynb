{
 "cells": [
  {
   "cell_type": "markdown",
   "metadata": {},
   "source": [
    "#Define Libraries"
   ]
  },
  {
   "cell_type": "code",
   "execution_count": 29,
   "metadata": {},
   "outputs": [],
   "source": [
    "import numpy as np\n",
    "import csv\n",
    "import chardet\n",
    "import re\n",
    "from sklearn.feature_extraction.text import CountVectorizer\n",
    "from sklearn.metrics.pairwise import cosine_similarity\n",
    "from nltk.corpus import stopwords\n",
    "from nltk.tokenize import word_tokenize"
   ]
  },
  {
   "cell_type": "code",
   "execution_count": 11,
   "metadata": {},
   "outputs": [],
   "source": [
    "#Calculate the cosine similarity between two texts\n",
    "\n",
    "def calculate_cosine_similarity(text1, text2, threshold=0.6):\n",
    "    if text1 is None or text2 is None:\n",
    "        return 0.0\n",
    "    \n",
    "    vectorizer = CountVectorizer(min_df=1).fit_transform([text1, text2])\n",
    "    vectors = vectorizer.toarray()\n",
    "    similarity = cosine_similarity(vectors[0].reshape(1, -1), vectors[1].reshape(1, -1))\n",
    "    \n",
    "    if similarity[0][0] >= threshold:\n",
    "        return similarity[0][0]\n",
    "    else:\n",
    "        return 0.0"
   ]
  },
  {
   "cell_type": "code",
   "execution_count": 12,
   "metadata": {},
   "outputs": [],
   "source": [
    "#Reading csv\n",
    "\n",
    "def read_csv_data(file_path, column_name):\n",
    "    data = []\n",
    "    with open(file_path, 'rb') as file:\n",
    "        raw_data = file.read()\n",
    "        encoding = chardet.detect(raw_data)['encoding']\n",
    "        decoded_data = raw_data.decode(encoding)\n",
    "        csv_reader = csv.DictReader(decoded_data.splitlines())\n",
    "        for row in csv_reader:\n",
    "            keyword = row[column_name]\n",
    "            data.append(keyword)\n",
    "    return data"
   ]
  },
  {
   "cell_type": "code",
   "execution_count": 13,
   "metadata": {},
   "outputs": [],
   "source": [
    "def get_row_by_index(file_path, index, encoding='utf-8'):\n",
    "    with open(file_path, 'r', encoding=encoding) as file:\n",
    "        csv_reader = csv.reader(file)\n",
    "        rows = list(csv_reader)\n",
    "        if index < len(rows):\n",
    "            return rows[index]\n",
    "    return None"
   ]
  },
  {
   "cell_type": "code",
   "execution_count": 14,
   "metadata": {},
   "outputs": [],
   "source": [
    "# Fungsi untuk mendapatkan kolom tertentu dari baris dalam file CSV berdasarkan indeks\n",
    "def get_columns_by_index(file_path, index, columns, encoding='utf-8'):\n",
    "    rows = []\n",
    "    with open(file_path, 'r', encoding=encoding) as file:\n",
    "        csv_reader = csv.reader(file)\n",
    "        rows = list(csv_reader)\n",
    "    \n",
    "    if index < len(rows):\n",
    "        selected_columns = [rows[index][column_index] for column_index in columns]\n",
    "        return selected_columns\n",
    "    \n",
    "    return None\n",
    "\n"
   ]
  },
  {
   "cell_type": "code",
   "execution_count": 62,
   "metadata": {},
   "outputs": [
    {
     "name": "stdout",
     "output_type": "stream",
     "text": [
      "Search: cozy and free wifi\n",
      "Filtered Input: cozy free wifi\n"
     ]
    }
   ],
   "source": [
    "stop_words = set(stopwords.words('english'))\n",
    "\n",
    "# Words to remove\n",
    "additional_keywords = [\"caffe\", \"place\", \"coffee\", \"nan\", \"cafe\"]\n",
    "\n",
    "# Asking User Input\n",
    "user_input = input(\"Search: \")\n",
    "\n",
    "# Split the input into individual words\n",
    "words = user_input.split()\n",
    "\n",
    "# Preprocess the search query by splitting and removing symbols\n",
    "search_keywords = re.findall(r'\\b\\w+\\b', user_input.lower())\n",
    "\n",
    "# Remove stop words and additional keywords from the search keywords\n",
    "search_keywords = [word for word in search_keywords if word not in stop_words and word not in additional_keywords]\n",
    "\n",
    "# Join the remaining words back together\n",
    "filtered_input = \" \".join(search_keywords)\n",
    "\n",
    "print(\"Filtered Input:\", filtered_input)"
   ]
  },
  {
   "cell_type": "code",
   "execution_count": 63,
   "metadata": {},
   "outputs": [],
   "source": [
    "#Retrieve extraction data from CSV file\n",
    "csv_data = read_csv_data('Hasil_Ekstraksi_Clean.csv', 'Keywords')"
   ]
  },
  {
   "cell_type": "code",
   "execution_count": 64,
   "metadata": {},
   "outputs": [],
   "source": [
    "#Calculate cosine similarity between each extracted data and user input\n",
    "similarities = []\n",
    "for data in csv_data:\n",
    "    similarity = calculate_cosine_similarity(data, filtered_input)\n",
    "    similarities.append(similarity)"
   ]
  },
  {
   "cell_type": "code",
   "execution_count": 65,
   "metadata": {
    "scrolled": true
   },
   "outputs": [
    {
     "name": "stdout",
     "output_type": "stream",
     "text": [
      "Cosine similarity: 0.6311687442672027\n",
      "Teks yang paling mirip: speed wifi, wifi connection, place cup, coffee stingy, cozy, brotherhood coffee, wifi guys, free wifi, coffee variation, cozy place\n",
      "Kolom yang terkait:\n",
      "i: Kopi Jelata\n",
      "m: ChIJhRhMJZb81y0RIwWtvzpwFXA\n",
      "p: b, Jl. Mertojoyo Sel. No.17b, Merjosari, Kec. Lowokwaru, Kota Malang, Jawa Timur 65144, Indonesia\n",
      "i: 4.5\n",
      "e: 280\n",
      "------------------------------\n",
      "Cosine similarity: 0.0\n",
      "Teks yang paling mirip: weather hot, tongue, cheese, cheese contemporary, hay boba, drinks dont, drink weather, drink needs, boba really, suitable boba\n",
      "Kolom yang terkait:\n",
      "i: Warmindo Megaria\n",
      "m: ChIJH5yTxCVZei4RYM6Kvq1fEqw\n",
      "p: Jl. Raya Mulyorejo No.19-100, Mulyorejo, Kec. Sukun, Kota Malang, Jawa Timur 65147, Indonesia\n",
      "i: 4.9\n",
      "e: 21\n",
      "------------------------------\n",
      "Cosine similarity: 0.0\n",
      "Teks yang paling mirip: affordable, food stall, comfortable place, unique coffee, service drinks, cafestyle atmosphere, selection indomie, complete indomie, choices cafestyle, indomie variants\n",
      "Kolom yang terkait:\n",
      "i: BARAKA COFFEE & VIBES\n",
      "m: ChIJKYlIaxwp1i0RfTIVldJp4OY\n",
      "p: Jl. Terusan Ijen No.10, Bareng, Kec. Klojen, Kota Malang, Jawa Timur 65116, Indonesia\n",
      "i: 4.9\n",
      "e: 21\n",
      "------------------------------\n",
      "Cosine similarity: 0.0\n",
      "Teks yang paling mirip: place gathering, friendly student, mesem cozy, vehicles comfortable, place noisy, pockets bathroom, good menu, new caffe, baristas love, caffe good\n",
      "Kolom yang terkait:\n",
      "i: Laiyo Warunk\n",
      "m: ChIJg7DnagODeC4RcPkchIiGhjI\n",
      "p: Jl. Bend. Sutami 1 No.460A, Sumbersari, Kec. Lowokwaru, Kota Malang, Jawa Timur 65145, Indonesia\n",
      "i: 4.9\n",
      "e: 20\n",
      "------------------------------\n",
      "Cosine similarity: 0.0\n",
      "Teks yang paling mirip: spicy geprek, lalapan uii, kec lowokwaru, taste place, pol tofu, eggs poor, food cheap, try grabfood, recently tofu, lovely menu\n",
      "Kolom yang terkait:\n",
      "i: Rokupang Malang\n",
      "m: ChIJD_5s6uUp1i0RwrFNaQxyGnw\n",
      "p: Jl. Danau Bratan Raya No.23, Sawojajar, Kec. Kedungkandang, Kota Malang, Jawa Timur 65139, Indonesia\n",
      "i: 4.9\n",
      "e: 20\n",
      "------------------------------\n",
      "Cosine similarity: 0.0\n",
      "Teks yang paling mirip: tuna vegetables, baked steamed, nongki toast, steamed buns, modern cafe, blueberry srikaya, rokupang filled, mosque menu, standard rokupang, sawojajar located\n",
      "Kolom yang terkait:\n",
      "i: Galaxy Koffie\n",
      "m: ChIJabtyximDeC4Ru04i--VdLR0\n",
      "p: Jl. Simpang Sulfat Selatan No.5, Pandanwangi, Kec. Blimbing, Kota Malang, Jawa Timur 65126, Indonesia\n",
      "i: 4.9\n",
      "e: 20\n",
      "------------------------------\n",
      "Cosine similarity: 0.0\n",
      "Teks yang paling mirip: place cheap, located location, coffee waiting, place convenient, josss coffee, great place, parking place, kinds coffee, sawojajar areas, recommended coffee\n",
      "Kolom yang terkait:\n",
      "i: HAY Boba Cheese\n",
      "m: ChIJ5U7h_tmDeC4RWfMR93x36hw\n",
      "p: Jl. Lembang No.1a, Rampal Celaket, Kec. Klojen, Kota Malang, Jawa Timur 65112, Indonesia\n",
      "i: 4.9\n",
      "e: 20\n",
      "------------------------------\n",
      "Cosine similarity: 0.0\n",
      "Teks yang paling mirip: suitable babies, santuyy childs, comfortable comfortable, boss vilaa, parking area, used park, coffee delicious, place comfortable, childs coffee, villa villa\n",
      "Kolom yang terkait:\n",
      "i: Cafe Jam Bucket\n",
      "m: ChIJhyTTfjqDeC4RKxudShhbd1o\n",
      "p: 3JCH+639, Jl. Manunggal, Mojolangu, Kec. Lowokwaru, Kota Malang, Jawa Timur 65142, Indonesia\n",
      "i: 4.9\n",
      "e: 19\n",
      "------------------------------\n"
     ]
    }
   ],
   "source": [
    "#Display the largest cosine similarity result\n",
    "top_indices = np.argsort(similarities)[-8:][::-1]\n",
    "\n",
    "\n",
    "\n",
    "# Sort top_indices based on the 'score' column\n",
    "# sorted_indices = sorted(top_indices, key=lambda x: float(get_row_by_index('Hasil_Ekstraksi_Clean.csv', x)[10].replace(',', '')), reverse=True)\n",
    "sorted_indices = sorted(top_indices, key=lambda x: float(\"\".join(c for c in get_row_by_index('Hasil_Ekstraksi_Clean.csv', x)[9] if c.isdigit())), reverse=True)\n",
    "\n",
    "\n",
    "for index in sorted_indices:\n",
    "    max_similarity = similarities[index]\n",
    "    most_similar_text = csv_data[index]\n",
    "    most_similar_row = get_row_by_index('Hasil_Ekstraksi_Clean.csv', index)\n",
    "    columns_to_display = [0, 1, 2, 4, 5]  \n",
    "    selected_columns = get_columns_by_index('Hasil_Ekstraksi_Clean.csv', index, columns_to_display)\n",
    "\n",
    "    if selected_columns is not None:\n",
    "        print(\"Cosine similarity:\", max_similarity)\n",
    "        print(\"Teks yang paling mirip:\", most_similar_text)\n",
    "        print(\"Kolom yang terkait:\")\n",
    "        for column_index, value in zip(columns_to_display, selected_columns):\n",
    "            column_name = csv_data[0][column_index]  # Retrieve the column name from the header row\n",
    "            print(f\"{column_name}: {value}\")\n",
    "        print(\"------------------------------\")"
   ]
  },
  {
   "cell_type": "code",
   "execution_count": 67,
   "metadata": {},
   "outputs": [
    {
     "name": "stdout",
     "output_type": "stream",
     "text": [
      "Cosine similarity terbesar: 0.0\n",
      "Teks yang paling mirip: speed wifi, wifi connection, place cup, coffee stingy, cozy, brotherhood coffee, wifi guys, free wifi, coffee variation, cozy place\n",
      "Kolom yang terkait:\n",
      "i: Kopi Ireng Ndeso\n",
      "m: ChIJT8D01Rko1i0Rou4UsZMsDqs\n",
      "p: Jl. A. Yani No.190, Bokor, Turen, Kec. Turen, Kabupaten Malang, Jawa Timur 65175, Indonesia\n",
      "i: 4.4\n",
      "e: 75\n"
     ]
    }
   ],
   "source": [
    "columns_to_display = [0, 1, 2, 4, 5]  \n",
    "selected_columns = get_columns_by_index('Hasil_Ekstraksi_Clean.csv', max_index, columns_to_display)\n",
    "\n",
    "if selected_columns is not None:\n",
    "    print(\"Cosine similarity terbesar:\", max_similarity)\n",
    "    print(\"Teks yang paling mirip:\", most_similar_text)\n",
    "    print(\"Kolom yang terkait:\")\n",
    "    for column_index, value in zip(columns_to_display, selected_columns):\n",
    "        column_name = csv_data[0][column_index]  # Retrieve the column name from the header row\n",
    "        print(f\"{column_name}: {value}\")\n"
   ]
  },
  {
   "cell_type": "code",
   "execution_count": 66,
   "metadata": {},
   "outputs": [
    {
     "name": "stdout",
     "output_type": "stream",
     "text": [
      "Cosine similarity: 0.6311687442672027\n",
      "Teks yang paling mirip: speed wifi, wifi connection, place cup, coffee stingy, cozy, brotherhood coffee, wifi guys, free wifi, coffee variation, cozy place\n",
      "Kolom yang terkait:\n",
      "i: Kopi Jelata\n",
      "m: ChIJhRhMJZb81y0RIwWtvzpwFXA\n",
      "p: b, Jl. Mertojoyo Sel. No.17b, Merjosari, Kec. Lowokwaru, Kota Malang, Jawa Timur 65144, Indonesia\n",
      "i: 4.5\n",
      "e: 280\n",
      "------------------------------\n"
     ]
    }
   ],
   "source": [
    "for index in sorted_indices:\n",
    "    max_similarity = similarities[index]\n",
    "    if max_similarity >= 0.6:\n",
    "        most_similar_text = csv_data[index]\n",
    "        most_similar_row = get_row_by_index('Hasil_Ekstraksi_Clean.csv', index)\n",
    "        selected_columns = get_columns_by_index('Hasil_Ekstraksi_Clean.csv', index, columns_to_display)\n",
    "\n",
    "        if selected_columns is not None:\n",
    "            print(\"Cosine similarity:\", max_similarity)\n",
    "            print(\"Teks yang paling mirip:\", most_similar_text)\n",
    "            print(\"Kolom yang terkait:\")\n",
    "            for column_index, value in zip(columns_to_display, selected_columns):\n",
    "                column_name = csv_data[0][column_index]  # Retrieve the column name from the header row\n",
    "                print(f\"{column_name}: {value}\")\n",
    "            print(\"------------------------------\")"
   ]
  },
  {
   "cell_type": "code",
   "execution_count": null,
   "metadata": {},
   "outputs": [],
   "source": []
  }
 ],
 "metadata": {
  "interpreter": {
   "hash": "ac59ebe37160ed0dfa835113d9b8498d9f09ceb179beaac4002f036b9467c963"
  },
  "kernelspec": {
   "display_name": "Python 3 (ipykernel)",
   "language": "python",
   "name": "python3"
  },
  "language_info": {
   "codemirror_mode": {
    "name": "ipython",
    "version": 3
   },
   "file_extension": ".py",
   "mimetype": "text/x-python",
   "name": "python",
   "nbconvert_exporter": "python",
   "pygments_lexer": "ipython3",
   "version": "3.9.13"
  }
 },
 "nbformat": 4,
 "nbformat_minor": 2
}
