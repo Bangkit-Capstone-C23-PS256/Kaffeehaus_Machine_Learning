{
 "cells": [
  {
   "cell_type": "markdown",
   "metadata": {},
   "source": [
    "#Define Libraries"
   ]
  },
  {
   "cell_type": "code",
   "execution_count": 44,
   "metadata": {},
   "outputs": [],
   "source": [
    "import numpy as np\n",
    "import csv\n",
    "import chardet\n",
    "from sklearn.feature_extraction.text import CountVectorizer\n",
    "from sklearn.metrics.pairwise import cosine_similarity"
   ]
  },
  {
   "cell_type": "code",
   "execution_count": 45,
   "metadata": {},
   "outputs": [],
   "source": [
    "#Calculate the cosine similarity between two texts\n",
    "\n",
    "def calculate_cosine_similarity(text1, text2, threshold=0.6):\n",
    "    if text1 is None or text2 is None:\n",
    "        return 0.0\n",
    "    \n",
    "    vectorizer = CountVectorizer(min_df=1).fit_transform([text1, text2])\n",
    "    vectors = vectorizer.toarray()\n",
    "    similarity = cosine_similarity(vectors[0].reshape(1, -1), vectors[1].reshape(1, -1))\n",
    "    \n",
    "    if similarity[0][0] >= threshold:\n",
    "        return similarity[0][0]\n",
    "    else:\n",
    "        return 0.0"
   ]
  },
  {
   "cell_type": "code",
   "execution_count": 46,
   "metadata": {},
   "outputs": [],
   "source": [
    "#Reading csv\n",
    "\n",
    "def read_csv_data(file_path, column_name):\n",
    "    data = []\n",
    "    with open(file_path, 'rb') as file:\n",
    "        raw_data = file.read()\n",
    "        encoding = chardet.detect(raw_data)['encoding']\n",
    "        decoded_data = raw_data.decode(encoding)\n",
    "        csv_reader = csv.DictReader(decoded_data.splitlines())\n",
    "        for row in csv_reader:\n",
    "            keyword = row[column_name]\n",
    "            data.append(keyword)\n",
    "    return data"
   ]
  },
  {
   "cell_type": "code",
   "execution_count": 47,
   "metadata": {},
   "outputs": [],
   "source": [
    "def get_row_by_index(file_path, index, encoding='utf-8'):\n",
    "    with open(file_path, 'r', encoding=encoding) as file:\n",
    "        csv_reader = csv.reader(file)\n",
    "        rows = list(csv_reader)\n",
    "        if index < len(rows):\n",
    "            return rows[index]\n",
    "    return None"
   ]
  },
  {
   "cell_type": "code",
   "execution_count": 48,
   "metadata": {},
   "outputs": [],
   "source": [
    "# Fungsi untuk mendapatkan kolom tertentu dari baris dalam file CSV berdasarkan indeks\n",
    "def get_columns_by_index(file_path, index, columns, encoding='utf-8'):\n",
    "    row = get_row_by_index(file_path, index, encoding)\n",
    "    if row is not None:\n",
    "        selected_columns = [row[column_index] for column_index in columns]\n",
    "        return selected_columns\n",
    "    return None\n",
    "\n"
   ]
  },
  {
   "cell_type": "code",
   "execution_count": 49,
   "metadata": {},
   "outputs": [
    {
     "name": "stdout",
     "output_type": "stream",
     "text": [
      "Search: cafe with cat\n"
     ]
    }
   ],
   "source": [
    "#Asking User Input\n",
    "\n",
    "user_input = input(\"Search: \")"
   ]
  },
  {
   "cell_type": "code",
   "execution_count": 50,
   "metadata": {},
   "outputs": [],
   "source": [
    "#Retrieve extraction data from CSV file\n",
    "csv_data = read_csv_data('Hasil_Ekstraksi_Clean.csv', 'Keywords')"
   ]
  },
  {
   "cell_type": "code",
   "execution_count": 51,
   "metadata": {},
   "outputs": [],
   "source": [
    "#Calculate cosine similarity between each extracted data and user input\n",
    "similarities = []\n",
    "for data in csv_data:\n",
    "    similarity = calculate_cosine_similarity(data, user_input)\n",
    "    similarities.append(similarity)"
   ]
  },
  {
   "cell_type": "code",
   "execution_count": 52,
   "metadata": {
    "scrolled": true
   },
   "outputs": [],
   "source": [
    "#Display the largest cosine similarity result\n",
    "\n",
    "max_similarity = np.max(similarities)\n",
    "max_index = np.argmax(similarities)\n",
    "most_similar_text = csv_data[max_index]\n",
    "most_similar_row = get_row_by_index('Hasil_Ekstraksi_Clean.csv', max_index)\n",
    "\n",
    "#print(\"Cosine similarity terbesar:\", max_similarity)\n",
    "#print(\"Teks yang paling mirip:\", most_similar_text)\n",
    "#print(\"Baris yang terkait:\")\n",
    "#print(most_similar_row)"
   ]
  },
  {
   "cell_type": "code",
   "execution_count": 55,
   "metadata": {},
   "outputs": [
    {
     "ename": "TypeError",
     "evalue": "list indices must be integers or slices, not str",
     "output_type": "error",
     "traceback": [
      "\u001b[1;31m---------------------------------------------------------------------------\u001b[0m",
      "\u001b[1;31mTypeError\u001b[0m                                 Traceback (most recent call last)",
      "Cell \u001b[1;32mIn[55], line 2\u001b[0m\n\u001b[0;32m      1\u001b[0m columns_to_display \u001b[38;5;241m=\u001b[39m [\u001b[38;5;124m\"\u001b[39m\u001b[38;5;124mName\u001b[39m\u001b[38;5;124m\"\u001b[39m, \u001b[38;5;124m\"\u001b[39m\u001b[38;5;124mFormatted Address\u001b[39m\u001b[38;5;124m\"\u001b[39m]  \n\u001b[1;32m----> 2\u001b[0m selected_columns \u001b[38;5;241m=\u001b[39m \u001b[43mget_columns_by_index\u001b[49m\u001b[43m(\u001b[49m\u001b[38;5;124;43m'\u001b[39;49m\u001b[38;5;124;43mHasil_Ekstraksi_Clean.csv\u001b[39;49m\u001b[38;5;124;43m'\u001b[39;49m\u001b[43m,\u001b[49m\u001b[43m \u001b[49m\u001b[43mmax_index\u001b[49m\u001b[43m,\u001b[49m\u001b[43m \u001b[49m\u001b[43mcolumns_to_display\u001b[49m\u001b[43m)\u001b[49m\n\u001b[0;32m      4\u001b[0m \u001b[38;5;28;01mif\u001b[39;00m selected_columns \u001b[38;5;129;01mis\u001b[39;00m \u001b[38;5;129;01mnot\u001b[39;00m \u001b[38;5;28;01mNone\u001b[39;00m:\n\u001b[0;32m      5\u001b[0m     \u001b[38;5;28mprint\u001b[39m(\u001b[38;5;124m\"\u001b[39m\u001b[38;5;124mCosine similarity terbesar:\u001b[39m\u001b[38;5;124m\"\u001b[39m, max_similarity)\n",
      "Cell \u001b[1;32mIn[48], line 5\u001b[0m, in \u001b[0;36mget_columns_by_index\u001b[1;34m(file_path, index, columns, encoding)\u001b[0m\n\u001b[0;32m      3\u001b[0m row \u001b[38;5;241m=\u001b[39m get_row_by_index(file_path, index, encoding)\n\u001b[0;32m      4\u001b[0m \u001b[38;5;28;01mif\u001b[39;00m row \u001b[38;5;129;01mis\u001b[39;00m \u001b[38;5;129;01mnot\u001b[39;00m \u001b[38;5;28;01mNone\u001b[39;00m:\n\u001b[1;32m----> 5\u001b[0m     selected_columns \u001b[38;5;241m=\u001b[39m [row[column_index] \u001b[38;5;28;01mfor\u001b[39;00m column_index \u001b[38;5;129;01min\u001b[39;00m columns]\n\u001b[0;32m      6\u001b[0m     \u001b[38;5;28;01mreturn\u001b[39;00m selected_columns\n\u001b[0;32m      7\u001b[0m \u001b[38;5;28;01mreturn\u001b[39;00m \u001b[38;5;28;01mNone\u001b[39;00m\n",
      "Cell \u001b[1;32mIn[48], line 5\u001b[0m, in \u001b[0;36m<listcomp>\u001b[1;34m(.0)\u001b[0m\n\u001b[0;32m      3\u001b[0m row \u001b[38;5;241m=\u001b[39m get_row_by_index(file_path, index, encoding)\n\u001b[0;32m      4\u001b[0m \u001b[38;5;28;01mif\u001b[39;00m row \u001b[38;5;129;01mis\u001b[39;00m \u001b[38;5;129;01mnot\u001b[39;00m \u001b[38;5;28;01mNone\u001b[39;00m:\n\u001b[1;32m----> 5\u001b[0m     selected_columns \u001b[38;5;241m=\u001b[39m [\u001b[43mrow\u001b[49m\u001b[43m[\u001b[49m\u001b[43mcolumn_index\u001b[49m\u001b[43m]\u001b[49m \u001b[38;5;28;01mfor\u001b[39;00m column_index \u001b[38;5;129;01min\u001b[39;00m columns]\n\u001b[0;32m      6\u001b[0m     \u001b[38;5;28;01mreturn\u001b[39;00m selected_columns\n\u001b[0;32m      7\u001b[0m \u001b[38;5;28;01mreturn\u001b[39;00m \u001b[38;5;28;01mNone\u001b[39;00m\n",
      "\u001b[1;31mTypeError\u001b[0m: list indices must be integers or slices, not str"
     ]
    }
   ],
   "source": [
    "\n",
    "columns_to_display = [0, 1, 2]  \n",
    "selected_columns = get_columns_by_index('Hasil_Ekstraksi_Clean.csv', max_index, columns_to_display)\n",
    "\n",
    "if selected_columns is not None:\n",
    "    print(\"Cosine similarity terbesar:\", max_similarity)\n",
    "    print(\"Teks yang paling mirip:\", most_similar_text)\n",
    "    print(\"Kolom yang terkait:\")\n",
    "    #for column_index, value in zip(columns_to_display, selected_columns):\n",
    "        #column_name = csv_data[0][column_index]  # Mendapatkan nama kolom dari baris header\n",
    "        #print(f\"{column_name}: {value}\")\n",
    "    for column_name, value in zip(columns_to_display, selected_columns):\n",
    "        print(f\"{column_name}: {value}\")\n",
    "\n"
   ]
  },
  {
   "cell_type": "code",
   "execution_count": null,
   "metadata": {},
   "outputs": [],
   "source": []
  }
 ],
 "metadata": {
  "interpreter": {
   "hash": "ac59ebe37160ed0dfa835113d9b8498d9f09ceb179beaac4002f036b9467c963"
  },
  "kernelspec": {
   "display_name": "Python 3 (ipykernel)",
   "language": "python",
   "name": "python3"
  },
  "language_info": {
   "codemirror_mode": {
    "name": "ipython",
    "version": 3
   },
   "file_extension": ".py",
   "mimetype": "text/x-python",
   "name": "python",
   "nbconvert_exporter": "python",
   "pygments_lexer": "ipython3",
   "version": "3.10.9"
  }
 },
 "nbformat": 4,
 "nbformat_minor": 2
}
