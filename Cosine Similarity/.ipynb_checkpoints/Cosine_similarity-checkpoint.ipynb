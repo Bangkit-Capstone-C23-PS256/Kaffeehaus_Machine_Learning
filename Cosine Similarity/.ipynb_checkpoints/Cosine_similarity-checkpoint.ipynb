{
 "cells": [
  {
   "cell_type": "code",
   "execution_count": 1,
   "metadata": {},
   "outputs": [],
   "source": [
    "#Define Libraries\n",
    "import numpy as np\n",
    "import csv\n",
    "import chardet\n",
    "import re\n",
    "from sklearn.feature_extraction.text import CountVectorizer\n",
    "from sklearn.metrics.pairwise import cosine_similarity\n",
    "from nltk.corpus import stopwords\n",
    "from nltk.tokenize import word_tokenize"
   ]
  },
  {
   "cell_type": "code",
   "execution_count": 2,
   "metadata": {},
   "outputs": [],
   "source": [
    "#Calculate the cosine similarity between two texts\n",
    "\n",
    "def calculate_cosine_similarity(text1, text2, threshold=0.6):\n",
    "    if text1 is None or text2 is None:\n",
    "        return 0.0\n",
    "    \n",
    "    vectorizer = CountVectorizer(min_df=1).fit_transform([text1, text2])\n",
    "    vectors = vectorizer.toarray()\n",
    "    similarity = cosine_similarity(vectors[0].reshape(1, -1), vectors[1].reshape(1, -1))\n",
    "    \n",
    "    if similarity[0][0] >= threshold:\n",
    "        return similarity[0][0]\n",
    "    else:\n",
    "        return 0.0"
   ]
  },
  {
   "cell_type": "code",
   "execution_count": 3,
   "metadata": {},
   "outputs": [],
   "source": [
    "#Reading csv\n",
    "\n",
    "def read_csv_data(file_path, column_name):\n",
    "    data = []\n",
    "    with open(file_path, 'rb') as file:\n",
    "        raw_data = file.read()\n",
    "        encoding = chardet.detect(raw_data)['encoding']\n",
    "        decoded_data = raw_data.decode(encoding)\n",
    "        csv_reader = csv.DictReader(decoded_data.splitlines())\n",
    "        for row in csv_reader:\n",
    "            keyword = row[column_name]\n",
    "            data.append(keyword)\n",
    "    return data"
   ]
  },
  {
   "cell_type": "code",
   "execution_count": 4,
   "metadata": {},
   "outputs": [],
   "source": [
    "def get_row_by_index(file_path, index, encoding='utf-8'):\n",
    "    with open(file_path, 'r', encoding=encoding) as file:\n",
    "        csv_reader = csv.reader(file)\n",
    "        rows = list(csv_reader)\n",
    "        if index < len(rows):\n",
    "            return rows[index]\n",
    "    return None"
   ]
  },
  {
   "cell_type": "code",
   "execution_count": 5,
   "metadata": {},
   "outputs": [],
   "source": [
    "# Fungsi untuk mendapatkan kolom tertentu dari baris dalam file CSV berdasarkan indeks\n",
    "def get_columns_by_index(file_path, index, columns, encoding='utf-8'):\n",
    "    rows = []\n",
    "    with open(file_path, 'r', encoding=encoding) as file:\n",
    "        csv_reader = csv.reader(file)\n",
    "        rows = list(csv_reader)\n",
    "    \n",
    "    if index < len(rows):\n",
    "        selected_columns = [rows[index][column_index] for column_index in columns]\n",
    "        return selected_columns\n",
    "    \n",
    "    return None\n",
    "\n"
   ]
  },
  {
   "cell_type": "code",
   "execution_count": 15,
   "metadata": {},
   "outputs": [
    {
     "name": "stdout",
     "output_type": "stream",
     "text": [
      "Search: wifi\n",
      "Filtered Input: wifi\n"
     ]
    }
   ],
   "source": [
    "stop_words = set(stopwords.words('english'))\n",
    "\n",
    "# Words to remove\n",
    "additional_keywords = [\"caffe\", \"place\", \"coffee\", \"nan\", \"cafe\"]\n",
    "\n",
    "# Asking User Input\n",
    "user_input = input(\"Search: \")\n",
    "\n",
    "# Split the input into individual words\n",
    "words = user_input.split()\n",
    "\n",
    "# Preprocess the search query by splitting and removing symbols\n",
    "search_keywords = re.findall(r'\\b\\w+\\b', user_input.lower())\n",
    "\n",
    "# Remove stop words and additional keywords from the search keywords\n",
    "search_keywords = [word for word in search_keywords if word not in stop_words and word not in additional_keywords]\n",
    "\n",
    "# Join the remaining words back together\n",
    "filtered_input = \" \".join(search_keywords)\n",
    "\n",
    "print(\"Filtered Input:\", filtered_input)"
   ]
  },
  {
   "cell_type": "code",
   "execution_count": 19,
   "metadata": {},
   "outputs": [],
   "source": [
    "#Retrieve extraction data from CSV file\n",
    "csv_data = read_csv_data('Place Detail - Hasil_Ekstraksi(One Keyword) + Reranked.csv', 'One_Keywords')"
   ]
  },
  {
   "cell_type": "code",
   "execution_count": 20,
   "metadata": {},
   "outputs": [],
   "source": [
    "#Calculate cosine similarity between each extracted data and user input\n",
    "similarities = []\n",
    "for data in csv_data:\n",
    "    similarity = calculate_cosine_similarity(data, filtered_input)\n",
    "    similarities.append(similarity)"
   ]
  },
  {
   "cell_type": "code",
   "execution_count": 21,
   "metadata": {
    "scrolled": true
   },
   "outputs": [
    {
     "name": "stdout",
     "output_type": "stream",
     "text": [
      "Cosine similarity: 0.0\n",
      "Teks yang paling mirip: relaxing, shop, suitable, gaeesss, casual, warung, moment\n",
      "Kolom yang terkait:\n",
      "c: Kopi Perempat (es kopi, tubruk kopi)\n",
      "a: ChIJ_0dtc8op1i0Rz9SRlnTQHKs\n",
      "f: Jl. Semeru No.16, Oro-oro Dowo, Kec. Klojen, Kota Malang, Jawa Timur 65119, Indonesia\n",
      "s: 4.9\n",
      ",: 8\n",
      "------------------------------\n",
      "Cosine similarity: 0.0\n",
      "Teks yang paling mirip: parking, employees, coffee, comfortable, prices, losduk, thankyou\n",
      "Kolom yang terkait:\n",
      "c: Kopi Hompimpa\n",
      "a: ChIJ-WrowqH51y0RDac3a0yY-lY\n",
      "f: Jl. Ikan Tombro No.25, Mojolangu, Kec. Lowokwaru, Kota Malang, Jawa Timur 65142, Indonesia\n",
      "s: 4.9\n",
      ",: 8\n",
      "------------------------------\n",
      "Cosine similarity: 0.0\n",
      "Teks yang paling mirip: menu, signature, work, plugs, delicious, suitable, hanging\n",
      "Kolom yang terkait:\n",
      "c: Tahwa Kurnia 4\n",
      "a: ChIJdWHxIpEr1i0RzM2ehDiHDL4\n",
      "f: 2MFC+PG8, Madyopuro, Kedungkandang, Malang City, East Java 65139, Indonesia\n",
      "s: 4.9\n",
      ",: 8\n",
      "------------------------------\n",
      "Cosine similarity: 0.0\n",
      "Teks yang paling mirip: ginger, drinks, beneficial, joss, real, weather, prices\n",
      "Kolom yang terkait:\n",
      "c: Kopi Santan (KOSAN)\n",
      "a: ChIJG7WNZpZFei4Rp4T1heXjo28\n",
      "f: Jl. Raya Pandanlandung No.16, Krajan, Bandulan, Kec. Sukun, Kabupaten Malang, Jawa Timur 65158, Indonesia\n",
      "s: 4.9\n",
      ",: 8\n",
      "------------------------------\n",
      "Cosine similarity: 0.0\n",
      "Teks yang paling mirip: coconut, coffee, hangout, sensation, expensive, enjoy, way\n",
      "Kolom yang terkait:\n",
      "c: Yuli Coffee Shop\n",
      "a: ChIJ9U5d79sp1i0RypAlDHlP0Kc\n",
      "f: Jl. Salak II No.161, Turen, Kec. Turen, Kabupaten Malang, Jawa Timur 65175, Indonesia\n",
      "s: 4.9\n",
      ",: 8\n",
      "------------------------------\n",
      "Cosine similarity: 0.0\n",
      "Teks yang paling mirip: coffee, neruts, inspiration, tijah, shop, stalls, legendary\n",
      "Kolom yang terkait:\n",
      "c: Kedai 28\n",
      "a: ChIJNcuyi70p1i0RLwRq09PpPvg\n",
      "f: Jl. Kunta Bhaswara I No.28, Polehan, Kec. Blimbing, Kota Malang, Jawa Timur 65126, Indonesia\n",
      "s: 4.9\n",
      ",: 8\n",
      "------------------------------\n",
      "Cosine similarity: 0.0\n",
      "Teks yang paling mirip: menjes, mayan, nongki2, cozy, drinks, prices, atmosphere\n",
      "Kolom yang terkait:\n",
      "c: Pempek 88 Tidar\n",
      "a: ChIJ0Vf1y4cp1i0RaTmyHkhMuq0\n",
      "f: Oro-oro Dowo, Klojen, Malang City, East Java 65119, Indonesia\n",
      "s: 4.9\n",
      ",: 8\n",
      "------------------------------\n",
      "Cosine similarity: 0.0\n",
      "Teks yang paling mirip: shop, replace, number, sorry, wrong, looks, immediately\n",
      "Kolom yang terkait:\n",
      "c: Rumah Kopi\n",
      "a: ChIJkf__byZYei4RwXIxmMqAin8\n",
      "f: Jl. Ikan Kakap No.A5, Tunjungsekar, Kec. Lowokwaru, Kota Malang, Jawa Timur 65142, Indonesia\n",
      "s: 1.0\n",
      ",: 1\n",
      "------------------------------\n"
     ]
    }
   ],
   "source": [
    "#Display the largest cosine similarity result\n",
    "top_indices = np.argsort(similarities)[-8:][::-1]\n",
    "\n",
    "\n",
    "\n",
    "# Sort top_indices based on the 'score' column\n",
    "# sorted_indices = sorted(top_indices, key=lambda x: float(get_row_by_index('Hasil_Ekstraksi_Clean.csv', x)[10].replace(',', '')), reverse=True)\n",
    "sorted_indices = sorted(top_indices, key=lambda x: float(\"\".join(c for c in get_row_by_index('Place Detail - Hasil_Ekstraksi(One Keyword) + Reranked.csv', x)[9] if c.isdigit())), reverse=True)\n",
    "\n",
    "\n",
    "for index in sorted_indices:\n",
    "    max_similarity = similarities[index]\n",
    "    most_similar_text = csv_data[index]\n",
    "    most_similar_row = get_row_by_index('Place Detail - Hasil_Ekstraksi(One Keyword) + Reranked.csv', index)\n",
    "    columns_to_display = [0, 1, 2, 4, 5]  \n",
    "    selected_columns = get_columns_by_index('Place Detail - Hasil_Ekstraksi(One Keyword) + Reranked.csv', index, columns_to_display)\n",
    "\n",
    "    if selected_columns is not None:\n",
    "        print(\"Cosine similarity:\", max_similarity)\n",
    "        print(\"Teks yang paling mirip:\", most_similar_text)\n",
    "        print(\"Kolom yang terkait:\")\n",
    "        for column_index, value in zip(columns_to_display, selected_columns):\n",
    "            column_name = csv_data[0][column_index]  # Retrieve the column name from the header row\n",
    "            print(f\"{column_name}: {value}\")\n",
    "        print(\"------------------------------\")"
   ]
  },
  {
   "cell_type": "code",
   "execution_count": 67,
   "metadata": {},
   "outputs": [
    {
     "name": "stdout",
     "output_type": "stream",
     "text": [
      "Cosine similarity terbesar: 0.0\n",
      "Teks yang paling mirip: speed wifi, wifi connection, place cup, coffee stingy, cozy, brotherhood coffee, wifi guys, free wifi, coffee variation, cozy place\n",
      "Kolom yang terkait:\n",
      "i: Kopi Ireng Ndeso\n",
      "m: ChIJT8D01Rko1i0Rou4UsZMsDqs\n",
      "p: Jl. A. Yani No.190, Bokor, Turen, Kec. Turen, Kabupaten Malang, Jawa Timur 65175, Indonesia\n",
      "i: 4.4\n",
      "e: 75\n"
     ]
    }
   ],
   "source": [
    "columns_to_display = [0, 1, 2, 4, 5]  \n",
    "selected_columns = get_columns_by_index('Hasil_Ekstraksi_Clean.csv', max_index, columns_to_display)\n",
    "\n",
    "if selected_columns is not None:\n",
    "    print(\"Cosine similarity terbesar:\", max_similarity)\n",
    "    print(\"Teks yang paling mirip:\", most_similar_text)\n",
    "    print(\"Kolom yang terkait:\")\n",
    "    for column_index, value in zip(columns_to_display, selected_columns):\n",
    "        column_name = csv_data[0][column_index]  # Retrieve the column name from the header row\n",
    "        print(f\"{column_name}: {value}\")\n"
   ]
  },
  {
   "cell_type": "code",
   "execution_count": 10,
   "metadata": {},
   "outputs": [
    {
     "name": "stdout",
     "output_type": "stream",
     "text": [
      "Cosine similarity: 0.6933752452815365\n",
      "Teks yang paling mirip: perfect relaxing, coffee brother, trusted coffee, los wifi, wifi smooth, coffee toilets, free wifi, wifi cheap, friends wifi, coffee healthy\n",
      "Kolom yang terkait:\n",
      "i: Kopi Ireng Ndeso\n",
      "m: ChIJT8D01Rko1i0Rou4UsZMsDqs\n",
      "p: Jl. A. Yani No.190, Bokor, Turen, Kec. Turen, Kabupaten Malang, Jawa Timur 65175, Indonesia\n",
      "i: 4.4\n",
      "e: 75\n",
      "------------------------------\n",
      "Cosine similarity: 0.6246950475544243\n",
      "Teks yang paling mirip: speed wifi, wifi connection, place cup, coffee stingy, cozy, brotherhood coffee, wifi guys, free wifi, coffee variation, cozy place\n",
      "Kolom yang terkait:\n",
      "i: Kopi Jelata\n",
      "m: ChIJhRhMJZb81y0RIwWtvzpwFXA\n",
      "p: b, Jl. Mertojoyo Sel. No.17b, Merjosari, Kec. Lowokwaru, Kota Malang, Jawa Timur 65144, Indonesia\n",
      "i: 4.5\n",
      "e: 280\n",
      "------------------------------\n",
      "Cosine similarity: 0.6\n",
      "Teks yang paling mirip: inexpensive, student pockets, group discussion, visitor cozy, free wifi, theres wifi, friends friendly, wifi mnc, nice place, studied campus\n",
      "Kolom yang terkait:\n",
      "i: LAZONE@Malang\n",
      "m: ChIJo2ZcCe351y0RTR9jRhXFmDA\n",
      "p: Depan Gerbang kampus III UMM, Jalan Raya Tlogomas No 29, Tlogomas, Kecamatan Lowokwaru, Tlogomas, Kec. Lowokwaru, Kota Malang, Jawa Timur 65144, Indonesia\n",
      "i: 4.2\n",
      "e: 45\n",
      "------------------------------\n"
     ]
    }
   ],
   "source": [
    "for index in sorted_indices:\n",
    "    max_similarity = similarities[index]\n",
    "    if max_similarity >= 0.6:\n",
    "        most_similar_text = csv_data[index]\n",
    "        most_similar_row = get_row_by_index('Hasil_Ekstraksi_Clean.csv', index)\n",
    "        selected_columns = get_columns_by_index('Hasil_Ekstraksi_Clean.csv', index, columns_to_display)\n",
    "\n",
    "        if selected_columns is not None:\n",
    "            print(\"Cosine similarity:\", max_similarity)\n",
    "            print(\"Teks yang paling mirip:\", most_similar_text)\n",
    "            print(\"Kolom yang terkait:\")\n",
    "            for column_index, value in zip(columns_to_display, selected_columns):\n",
    "                column_name = csv_data[0][column_index]  # Retrieve the column name from the header row\n",
    "                print(f\"{column_name}: {value}\")\n",
    "            print(\"------------------------------\")"
   ]
  },
  {
   "cell_type": "code",
   "execution_count": null,
   "metadata": {},
   "outputs": [],
   "source": []
  }
 ],
 "metadata": {
  "interpreter": {
   "hash": "ac59ebe37160ed0dfa835113d9b8498d9f09ceb179beaac4002f036b9467c963"
  },
  "kernelspec": {
   "display_name": "Python 3 (ipykernel)",
   "language": "python",
   "name": "python3"
  },
  "language_info": {
   "codemirror_mode": {
    "name": "ipython",
    "version": 3
   },
   "file_extension": ".py",
   "mimetype": "text/x-python",
   "name": "python",
   "nbconvert_exporter": "python",
   "pygments_lexer": "ipython3",
   "version": "3.9.13"
  }
 },
 "nbformat": 4,
 "nbformat_minor": 2
}
