{
 "cells": [
  {
   "cell_type": "code",
   "execution_count": 7,
   "id": "76294d7f",
   "metadata": {},
   "outputs": [
    {
     "name": "stdout",
     "output_type": "stream",
     "text": [
      "Search: milk\n",
      "Cosine similarity terbesar: 0.0\n",
      "Baris yang terkait:\n",
      "Name: Cafe Sawah Pujonkidul\n"
     ]
    }
   ],
   "source": [
    "import numpy as np\n",
    "import csv\n",
    "import chardet\n",
    "from sklearn.feature_extraction.text import CountVectorizer\n",
    "from sklearn.metrics.pairwise import cosine_similarity\n",
    "\n",
    "# Calculate the cosine similarity between two texts\n",
    "def calculate_cosine_similarity(text1, text2, threshold=0.6):\n",
    "    if text1 is None or text2 is None:\n",
    "        return 0.0\n",
    "    \n",
    "    vectorizer = CountVectorizer(min_df=1).fit_transform([text1, text2])\n",
    "    vectors = vectorizer.toarray()\n",
    "    similarity = cosine_similarity(vectors[0].reshape(1, -1), vectors[1].reshape(1, -1))\n",
    "    \n",
    "    if similarity[0][0] >= threshold:\n",
    "        return similarity[0][0]\n",
    "    else:\n",
    "        return 0.0\n",
    "\n",
    "def read_csv_data(file_path, column_name):\n",
    "    data = []\n",
    "    with open(file_path, 'r', encoding='utf-8') as file:\n",
    "        csv_reader = csv.DictReader(file)\n",
    "        for row in csv_reader:\n",
    "            keyword = row[column_name]\n",
    "            data.append(row)  # Mengubah data menjadi baris lengkap dari CSV\n",
    "    return data\n",
    "\n",
    "def get_row_by_index(csv_data, index):\n",
    "    if index < len(csv_data):\n",
    "        return csv_data[index]\n",
    "    return None\n",
    "\n",
    "def get_columns_by_index(row, column_indices):\n",
    "    selected_columns = [row[column_index] for column_index in column_indices]\n",
    "    return selected_columns\n",
    "\n",
    "# Asking User Input\n",
    "user_input = input(\"Search: \")\n",
    "\n",
    "# Retrieve extraction data from CSV file\n",
    "csv_data = read_csv_data('Hasil_Ekstraksi_Clean.csv', 'Keywords')\n",
    "\n",
    "# Calculate cosine similarity between each extracted data and user input\n",
    "similarities = []\n",
    "for row in csv_data:\n",
    "    data = row['Keywords']\n",
    "    similarity = calculate_cosine_similarity(data, user_input)\n",
    "    similarities.append(similarity)\n",
    "\n",
    "# Display the largest cosine similarity result\n",
    "max_similarity = np.max(similarities)\n",
    "max_index = np.argmax(similarities)\n",
    "most_similar_row = get_row_by_index(csv_data, max_index)\n",
    "\n",
    "columns_to_display = ['Name']  # Nama kolom yang ingin ditampilkan\n",
    "selected_columns = get_columns_by_index(most_similar_row, columns_to_display)\n",
    "\n",
    "if selected_columns is not None:\n",
    "    print(\"Cosine similarity terbesar:\", max_similarity)\n",
    "    print(\"Baris yang terkait:\")\n",
    "    for column_name, value in zip(columns_to_display, selected_columns):\n",
    "        print(f\"{column_name}: {value}\")\n"
   ]
  },
  {
   "cell_type": "code",
   "execution_count": null,
   "id": "0ad12f5a",
   "metadata": {},
   "outputs": [],
   "source": []
  }
 ],
 "metadata": {
  "kernelspec": {
   "display_name": "Python 3 (ipykernel)",
   "language": "python",
   "name": "python3"
  },
  "language_info": {
   "codemirror_mode": {
    "name": "ipython",
    "version": 3
   },
   "file_extension": ".py",
   "mimetype": "text/x-python",
   "name": "python",
   "nbconvert_exporter": "python",
   "pygments_lexer": "ipython3",
   "version": "3.10.9"
  }
 },
 "nbformat": 4,
 "nbformat_minor": 5
}
