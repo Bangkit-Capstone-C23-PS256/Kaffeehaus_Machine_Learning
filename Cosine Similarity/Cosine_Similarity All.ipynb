{
 "cells": [
  {
   "cell_type": "code",
   "execution_count": 1,
   "id": "4c731743",
   "metadata": {},
   "outputs": [],
   "source": [
    "import numpy as np\n",
    "import csv\n",
    "import chardet\n",
    "from sklearn.feature_extraction.text import CountVectorizer\n",
    "from sklearn.metrics.pairwise import cosine_similarity"
   ]
  },
  {
   "cell_type": "code",
   "execution_count": 2,
   "id": "96f94c56",
   "metadata": {},
   "outputs": [],
   "source": [
    "#Calculate the cosine similarity between two texts\n",
    "\n",
    "def calculate_cosine_similarity(text1, text2, threshold=0.5):\n",
    "    if text1 is None or text2 is None:\n",
    "        return 0.0\n",
    "    \n",
    "    vectorizer = CountVectorizer(min_df=1).fit_transform([text1, text2])\n",
    "    vectors = vectorizer.toarray()\n",
    "    similarity = cosine_similarity(vectors[0].reshape(1, -1), vectors[1].reshape(1, -1))\n",
    "    \n",
    "    if similarity[0][0] >= threshold:\n",
    "        return similarity[0][0]\n",
    "    else:\n",
    "        return 0.0"
   ]
  },
  {
   "cell_type": "code",
   "execution_count": 3,
   "id": "a6073c41",
   "metadata": {},
   "outputs": [],
   "source": [
    "#Reading csv\n",
    "\n",
    "def read_csv_data(file_path, column_name, encoding='utf-8'):\n",
    "    with open(file_path, 'r', encoding=encoding) as file:\n",
    "        csv_reader = csv.DictReader(file)\n",
    "        data = [row[column_name] for row in csv_reader]\n",
    "    return data"
   ]
  },
  {
   "cell_type": "code",
   "execution_count": null,
   "id": "21e2457c",
   "metadata": {},
   "outputs": [],
   "source": []
  },
  {
   "cell_type": "code",
   "execution_count": 4,
   "id": "039ec9ef",
   "metadata": {},
   "outputs": [],
   "source": [
    "def get_columns_by_name(row, column_names):\n",
    "    selected_columns = [row[column_name] for column_name in column_names]\n",
    "    return selected_columns"
   ]
  },
  {
   "cell_type": "code",
   "execution_count": 5,
   "id": "0d3e9415",
   "metadata": {},
   "outputs": [],
   "source": [
    "def find_similarities(data, keywords, column_names_to_display):\n",
    "    similarities = []\n",
    "    for row in data:\n",
    "        similarity = calculate_cosine_similarity(row['Keywords'], keywords)\n",
    "        similarities.append(similarity)\n",
    "\n",
    "    # Mencari indeks baris dengan similarity tertinggi\n",
    "    max_similarity = np.max(similarities)\n",
    "    max_indices = np.where(similarities == max_similarity)[0]\n",
    "\n",
    "    # Menampilkan kolom-kolom terkait dari semua baris dengan similarity tertinggi\n",
    "    for index in max_indices:\n",
    "        most_similar_row = data[index]\n",
    "        selected_columns = get_columns_by_name(most_similar_row, column_names_to_display)\n",
    "\n",
    "        if selected_columns is not None:\n",
    "            print(\"Cosine similarity terbesar:\", max_similarity)\n",
    "            print(\"Baris yang paling mirip:\", most_similar_row)\n",
    "            print(\"Kolom yang terkait:\")\n",
    "            for column_name, value in zip(column_names_to_display, selected_columns):\n",
    "                print(f\"{column_name}: {value}\")\n",
    "            print()\n"
   ]
  },
  {
   "cell_type": "code",
   "execution_count": 6,
   "id": "3ed9acd5",
   "metadata": {},
   "outputs": [
    {
     "ename": "TypeError",
     "evalue": "read_csv_data() missing 1 required positional argument: 'column_name'",
     "output_type": "error",
     "traceback": [
      "\u001b[1;31m---------------------------------------------------------------------------\u001b[0m",
      "\u001b[1;31mTypeError\u001b[0m                                 Traceback (most recent call last)",
      "Cell \u001b[1;32mIn[6], line 1\u001b[0m\n\u001b[1;32m----> 1\u001b[0m csv_data \u001b[38;5;241m=\u001b[39m \u001b[43mread_csv_data\u001b[49m\u001b[43m(\u001b[49m\u001b[38;5;124;43m'\u001b[39;49m\u001b[38;5;124;43mHasil_Ekstraksi_Clean.csv\u001b[39;49m\u001b[38;5;124;43m'\u001b[39;49m\u001b[43m)\u001b[49m\n",
      "\u001b[1;31mTypeError\u001b[0m: read_csv_data() missing 1 required positional argument: 'column_name'"
     ]
    }
   ],
   "source": [
    "csv_data = read_csv_data('Hasil_Ekstraksi_Clean.csv')"
   ]
  },
  {
   "cell_type": "code",
   "execution_count": 7,
   "id": "5f274ed1",
   "metadata": {},
   "outputs": [
    {
     "name": "stdout",
     "output_type": "stream",
     "text": [
      "Search: great\n"
     ]
    }
   ],
   "source": [
    "# Input kata kunci dari pengguna\n",
    "user_input = input(\"Search: \")\n"
   ]
  },
  {
   "cell_type": "code",
   "execution_count": 8,
   "id": "6f189ec4",
   "metadata": {},
   "outputs": [
    {
     "ename": "TypeError",
     "evalue": "string indices must be integers",
     "output_type": "error",
     "traceback": [
      "\u001b[1;31m---------------------------------------------------------------------------\u001b[0m",
      "\u001b[1;31mTypeError\u001b[0m                                 Traceback (most recent call last)",
      "Cell \u001b[1;32mIn[8], line 7\u001b[0m\n\u001b[0;32m      4\u001b[0m csv_data \u001b[38;5;241m=\u001b[39m read_csv_data(\u001b[38;5;124m'\u001b[39m\u001b[38;5;124mHasil_Ekstraksi_Clean.csv\u001b[39m\u001b[38;5;124m'\u001b[39m, \u001b[38;5;124m'\u001b[39m\u001b[38;5;124mKeywords\u001b[39m\u001b[38;5;124m'\u001b[39m)\n\u001b[0;32m      6\u001b[0m \u001b[38;5;66;03m# Mencari kemiripan dan menampilkan kolom-kolom terkait\u001b[39;00m\n\u001b[1;32m----> 7\u001b[0m \u001b[43mfind_similarities\u001b[49m\u001b[43m(\u001b[49m\u001b[43mcsv_data\u001b[49m\u001b[43m,\u001b[49m\u001b[43m \u001b[49m\u001b[43muser_input\u001b[49m\u001b[43m,\u001b[49m\u001b[43m \u001b[49m\u001b[43mcolumns_to_display\u001b[49m\u001b[43m)\u001b[49m\n",
      "Cell \u001b[1;32mIn[5], line 4\u001b[0m, in \u001b[0;36mfind_similarities\u001b[1;34m(data, keywords, column_names_to_display)\u001b[0m\n\u001b[0;32m      2\u001b[0m similarities \u001b[38;5;241m=\u001b[39m []\n\u001b[0;32m      3\u001b[0m \u001b[38;5;28;01mfor\u001b[39;00m row \u001b[38;5;129;01min\u001b[39;00m data:\n\u001b[1;32m----> 4\u001b[0m     similarity \u001b[38;5;241m=\u001b[39m calculate_cosine_similarity(\u001b[43mrow\u001b[49m\u001b[43m[\u001b[49m\u001b[38;5;124;43m'\u001b[39;49m\u001b[38;5;124;43mKeywords\u001b[39;49m\u001b[38;5;124;43m'\u001b[39;49m\u001b[43m]\u001b[49m, keywords)\n\u001b[0;32m      5\u001b[0m     similarities\u001b[38;5;241m.\u001b[39mappend(similarity)\n\u001b[0;32m      7\u001b[0m \u001b[38;5;66;03m# Mencari indeks baris dengan similarity tertinggi\u001b[39;00m\n",
      "\u001b[1;31mTypeError\u001b[0m: string indices must be integers"
     ]
    }
   ],
   "source": [
    "columns_to_display = ['Name','Place ID']  # Misalnya, kolom dengan indeks 0 dan 1\n",
    "\n",
    "# Membaca data dari file CSV\n",
    "csv_data = read_csv_data('Hasil_Ekstraksi_Clean.csv', 'Keywords')\n",
    "\n",
    "# Mencari kemiripan dan menampilkan kolom-kolom terkait\n",
    "find_similarities(csv_data, user_input, columns_to_display)"
   ]
  },
  {
   "cell_type": "code",
   "execution_count": null,
   "id": "55fda519",
   "metadata": {},
   "outputs": [],
   "source": []
  }
 ],
 "metadata": {
  "kernelspec": {
   "display_name": "Python 3 (ipykernel)",
   "language": "python",
   "name": "python3"
  },
  "language_info": {
   "codemirror_mode": {
    "name": "ipython",
    "version": 3
   },
   "file_extension": ".py",
   "mimetype": "text/x-python",
   "name": "python",
   "nbconvert_exporter": "python",
   "pygments_lexer": "ipython3",
   "version": "3.10.9"
  }
 },
 "nbformat": 4,
 "nbformat_minor": 5
}
